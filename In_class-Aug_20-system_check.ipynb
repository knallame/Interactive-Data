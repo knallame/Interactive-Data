{
 "cells": [
  {
   "cell_type": "markdown",
   "id": "e8398a14-256d-4473-a633-1cfaac0770f6",
   "metadata": {},
   "source": [
    "# Systems Check\n",
    "\n",
    "## Keerthi\n",
    "\n",
    "### 8/20/2024\n"
   ]
  },
  {
   "cell_type": "code",
   "execution_count": 2,
   "id": "da5b4458-0a7b-48aa-876e-e1a2fd603145",
   "metadata": {},
   "outputs": [],
   "source": [
    "x=3"
   ]
  },
  {
   "cell_type": "code",
   "execution_count": 3,
   "id": "3b42a734-dbdb-4db2-bf14-d58f4db0468f",
   "metadata": {},
   "outputs": [
    {
     "data": {
      "text/plain": [
       "3"
      ]
     },
     "execution_count": 3,
     "metadata": {},
     "output_type": "execute_result"
    }
   ],
   "source": [
    "x"
   ]
  },
  {
   "cell_type": "code",
   "execution_count": 4,
   "id": "755b6f15-880c-41c1-a9a7-2dea4d810055",
   "metadata": {},
   "outputs": [
    {
     "data": {
      "text/plain": [
       "[1, 2, 3, 4]"
      ]
     },
     "execution_count": 4,
     "metadata": {},
     "output_type": "execute_result"
    }
   ],
   "source": [
    "my_list=[1,2,3,4]\n",
    "my_list"
   ]
  },
  {
   "cell_type": "code",
   "execution_count": 5,
   "id": "f5861e72-0cb5-4994-bc01-799d4a7c7ea9",
   "metadata": {},
   "outputs": [
    {
     "data": {
      "text/plain": [
       "3"
      ]
     },
     "execution_count": 5,
     "metadata": {},
     "output_type": "execute_result"
    }
   ],
   "source": [
    "my_list[2]"
   ]
  },
  {
   "cell_type": "code",
   "execution_count": 1,
   "id": "76ecd643-899a-44b8-9cc6-083c19a30f49",
   "metadata": {},
   "outputs": [],
   "source": [
    "my_name=\"Keerthi\""
   ]
  },
  {
   "cell_type": "code",
   "execution_count": 2,
   "id": "095443fc-237c-4415-a970-9298c6b99cca",
   "metadata": {},
   "outputs": [],
   "source": [
    "def display_name(a):\n",
    "    print(a)"
   ]
  },
  {
   "cell_type": "code",
   "execution_count": 3,
   "id": "a4ac716c-6e70-4acc-bb2c-802fe1815b97",
   "metadata": {},
   "outputs": [
    {
     "name": "stdout",
     "output_type": "stream",
     "text": [
      "Keerthi\n"
     ]
    }
   ],
   "source": [
    "display_name(my_name)"
   ]
  },
  {
   "cell_type": "code",
   "execution_count": 4,
   "id": "088ebe79-413b-4a0f-ac73-65bb4a568781",
   "metadata": {},
   "outputs": [],
   "source": [
    "def change_name(a):\n",
    "    new_name=a+\"new\"\n",
    "    return new_name"
   ]
  },
  {
   "cell_type": "code",
   "execution_count": 6,
   "id": "7c954365-61e5-4551-84de-dd9a15309c72",
   "metadata": {},
   "outputs": [
    {
     "data": {
      "text/plain": [
       "'Keerthinew'"
      ]
     },
     "execution_count": 6,
     "metadata": {},
     "output_type": "execute_result"
    }
   ],
   "source": [
    "changed_name=change_name('Keerthi')\n",
    "changed_name"
   ]
  },
  {
   "cell_type": "code",
   "execution_count": null,
   "id": "64d540f3-25da-4828-bd21-b7e17b1d9909",
   "metadata": {},
   "outputs": [],
   "source": []
  }
 ],
 "metadata": {
  "kernelspec": {
   "display_name": "Python 3 (ipykernel)",
   "language": "python",
   "name": "python3"
  },
  "language_info": {
   "codemirror_mode": {
    "name": "ipython",
    "version": 3
   },
   "file_extension": ".py",
   "mimetype": "text/x-python",
   "name": "python",
   "nbconvert_exporter": "python",
   "pygments_lexer": "ipython3",
   "version": "3.12.4"
  }
 },
 "nbformat": 4,
 "nbformat_minor": 5
}
