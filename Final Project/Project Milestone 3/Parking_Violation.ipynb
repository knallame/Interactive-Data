{
 "cells": [
  {
   "cell_type": "code",
   "execution_count": null,
   "metadata": {},
   "outputs": [],
   "source": [
    "# Loading required libraries\n",
    "import pandas as pd\n",
    "\n",
    "# Loading the required Clean_Parking_Violation set \n",
    "Parking_Violations= 'c:/Users/Final Project/Final Project Parking/Parking_Violations_Issued_in_September_2024.csv'\n",
    "Clean_Parking_Violation_Set = pd.read_csv(Parking_Violations)"
   ]
  },
  {
   "cell_type": "code",
   "execution_count": 44,
   "metadata": {},
   "outputs": [
    {
     "data": {
      "text/html": [
       "<div>\n",
       "<style scoped>\n",
       "    .dataframe tbody tr th:only-of-type {\n",
       "        vertical-align: middle;\n",
       "    }\n",
       "\n",
       "    .dataframe tbody tr th {\n",
       "        vertical-align: top;\n",
       "    }\n",
       "\n",
       "    .dataframe thead th {\n",
       "        text-align: right;\n",
       "    }\n",
       "</style>\n",
       "<table border=\"1\" class=\"dataframe\">\n",
       "  <thead>\n",
       "    <tr style=\"text-align: right;\">\n",
       "      <th></th>\n",
       "      <th>OBJECTID</th>\n",
       "      <th>TICKET_NUMBER</th>\n",
       "      <th>VIOLATION_TYPE_DESC</th>\n",
       "      <th>ISSUE_DATE</th>\n",
       "      <th>ISSUE_TIME</th>\n",
       "      <th>ISSUING_AGENCY_CODE</th>\n",
       "      <th>ISSUING_AGENCY_NAME</th>\n",
       "      <th>ISSUING_AGENCY_SHORT</th>\n",
       "      <th>VIOLATION_CODE</th>\n",
       "      <th>VIOLATION_PROC_DESC</th>\n",
       "      <th>...</th>\n",
       "      <th>PENALTY_2</th>\n",
       "      <th>PENALTY_3</th>\n",
       "      <th>PENALTY_4</th>\n",
       "      <th>PENALTY_5</th>\n",
       "      <th>XCOORD</th>\n",
       "      <th>YCOORD</th>\n",
       "      <th>LATITUDE</th>\n",
       "      <th>LONGITUDE</th>\n",
       "      <th>MAR_ID</th>\n",
       "      <th>GIS_LAST_MOD_DTTM</th>\n",
       "    </tr>\n",
       "  </thead>\n",
       "  <tbody>\n",
       "    <tr>\n",
       "      <th>0</th>\n",
       "      <td>83487425</td>\n",
       "      <td>260566401</td>\n",
       "      <td>P</td>\n",
       "      <td>2024/09/05 04:00:00+00</td>\n",
       "      <td>657</td>\n",
       "      <td>54</td>\n",
       "      <td>ST.ELZBETH HOSPITAL SECURITY GUARDS</td>\n",
       "      <td>SEH</td>\n",
       "      <td>P170</td>\n",
       "      <td>FAILURE TO DISPLAY CURRENT TAGS</td>\n",
       "      <td>...</td>\n",
       "      <td>0</td>\n",
       "      <td>0</td>\n",
       "      <td>0</td>\n",
       "      <td>0</td>\n",
       "      <td>NaN</td>\n",
       "      <td>NaN</td>\n",
       "      <td>NaN</td>\n",
       "      <td>NaN</td>\n",
       "      <td>NaN</td>\n",
       "      <td>2024/10/16 14:04:18+00</td>\n",
       "    </tr>\n",
       "    <tr>\n",
       "      <th>1</th>\n",
       "      <td>83487426</td>\n",
       "      <td>266969312</td>\n",
       "      <td>P</td>\n",
       "      <td>2024/09/18 04:00:00+00</td>\n",
       "      <td>133</td>\n",
       "      <td>59</td>\n",
       "      <td>US. BUREAU OF ENGRAVING AND PRINTNG</td>\n",
       "      <td>BEP</td>\n",
       "      <td>P055</td>\n",
       "      <td>NO PARKING ANYTIME</td>\n",
       "      <td>...</td>\n",
       "      <td>0</td>\n",
       "      <td>0</td>\n",
       "      <td>0</td>\n",
       "      <td>0</td>\n",
       "      <td>NaN</td>\n",
       "      <td>NaN</td>\n",
       "      <td>NaN</td>\n",
       "      <td>NaN</td>\n",
       "      <td>NaN</td>\n",
       "      <td>2024/10/16 14:04:18+00</td>\n",
       "    </tr>\n",
       "    <tr>\n",
       "      <th>2</th>\n",
       "      <td>83487445</td>\n",
       "      <td>266974724</td>\n",
       "      <td>P</td>\n",
       "      <td>2024/09/01 04:00:00+00</td>\n",
       "      <td>1020</td>\n",
       "      <td>59</td>\n",
       "      <td>US. BUREAU OF ENGRAVING AND PRINTNG</td>\n",
       "      <td>BEP</td>\n",
       "      <td>P012</td>\n",
       "      <td>DISOBEYING OFFICIAL SIGN</td>\n",
       "      <td>...</td>\n",
       "      <td>0</td>\n",
       "      <td>0</td>\n",
       "      <td>0</td>\n",
       "      <td>0</td>\n",
       "      <td>397076.780</td>\n",
       "      <td>135370.390</td>\n",
       "      <td>38.886</td>\n",
       "      <td>-77.034</td>\n",
       "      <td>810050.0</td>\n",
       "      <td>2024/10/16 14:04:18+00</td>\n",
       "    </tr>\n",
       "    <tr>\n",
       "      <th>3</th>\n",
       "      <td>83487446</td>\n",
       "      <td>266974735</td>\n",
       "      <td>P</td>\n",
       "      <td>2024/09/08 04:00:00+00</td>\n",
       "      <td>1051</td>\n",
       "      <td>59</td>\n",
       "      <td>US. BUREAU OF ENGRAVING AND PRINTNG</td>\n",
       "      <td>BEP</td>\n",
       "      <td>P170</td>\n",
       "      <td>FAILURE TO DISPLAY CURRENT TAGS</td>\n",
       "      <td>...</td>\n",
       "      <td>0</td>\n",
       "      <td>0</td>\n",
       "      <td>0</td>\n",
       "      <td>0</td>\n",
       "      <td>397328.708</td>\n",
       "      <td>135348.587</td>\n",
       "      <td>38.886</td>\n",
       "      <td>-77.031</td>\n",
       "      <td>805720.0</td>\n",
       "      <td>2024/10/16 14:04:18+00</td>\n",
       "    </tr>\n",
       "    <tr>\n",
       "      <th>4</th>\n",
       "      <td>83487447</td>\n",
       "      <td>266974746</td>\n",
       "      <td>P</td>\n",
       "      <td>2024/09/08 04:00:00+00</td>\n",
       "      <td>1108</td>\n",
       "      <td>59</td>\n",
       "      <td>US. BUREAU OF ENGRAVING AND PRINTNG</td>\n",
       "      <td>BEP</td>\n",
       "      <td>P170</td>\n",
       "      <td>FAILURE TO DISPLAY CURRENT TAGS</td>\n",
       "      <td>...</td>\n",
       "      <td>0</td>\n",
       "      <td>0</td>\n",
       "      <td>0</td>\n",
       "      <td>0</td>\n",
       "      <td>397328.637</td>\n",
       "      <td>135237.646</td>\n",
       "      <td>38.885</td>\n",
       "      <td>-77.031</td>\n",
       "      <td>801948.0</td>\n",
       "      <td>2024/10/16 14:04:18+00</td>\n",
       "    </tr>\n",
       "  </tbody>\n",
       "</table>\n",
       "<p>5 rows × 31 columns</p>\n",
       "</div>"
      ],
      "text/plain": [
       "   OBJECTID  TICKET_NUMBER VIOLATION_TYPE_DESC              ISSUE_DATE  \\\n",
       "0  83487425      260566401                   P  2024/09/05 04:00:00+00   \n",
       "1  83487426      266969312                   P  2024/09/18 04:00:00+00   \n",
       "2  83487445      266974724                   P  2024/09/01 04:00:00+00   \n",
       "3  83487446      266974735                   P  2024/09/08 04:00:00+00   \n",
       "4  83487447      266974746                   P  2024/09/08 04:00:00+00   \n",
       "\n",
       "   ISSUE_TIME  ISSUING_AGENCY_CODE                  ISSUING_AGENCY_NAME  \\\n",
       "0         657                   54  ST.ELZBETH HOSPITAL SECURITY GUARDS   \n",
       "1         133                   59  US. BUREAU OF ENGRAVING AND PRINTNG   \n",
       "2        1020                   59  US. BUREAU OF ENGRAVING AND PRINTNG   \n",
       "3        1051                   59  US. BUREAU OF ENGRAVING AND PRINTNG   \n",
       "4        1108                   59  US. BUREAU OF ENGRAVING AND PRINTNG   \n",
       "\n",
       "  ISSUING_AGENCY_SHORT VIOLATION_CODE              VIOLATION_PROC_DESC  ...  \\\n",
       "0                  SEH           P170  FAILURE TO DISPLAY CURRENT TAGS  ...   \n",
       "1                  BEP           P055               NO PARKING ANYTIME  ...   \n",
       "2                  BEP           P012         DISOBEYING OFFICIAL SIGN  ...   \n",
       "3                  BEP           P170  FAILURE TO DISPLAY CURRENT TAGS  ...   \n",
       "4                  BEP           P170  FAILURE TO DISPLAY CURRENT TAGS  ...   \n",
       "\n",
       "  PENALTY_2 PENALTY_3  PENALTY_4  PENALTY_5      XCOORD      YCOORD LATITUDE  \\\n",
       "0         0         0          0          0         NaN         NaN      NaN   \n",
       "1         0         0          0          0         NaN         NaN      NaN   \n",
       "2         0         0          0          0  397076.780  135370.390   38.886   \n",
       "3         0         0          0          0  397328.708  135348.587   38.886   \n",
       "4         0         0          0          0  397328.637  135237.646   38.885   \n",
       "\n",
       "  LONGITUDE    MAR_ID       GIS_LAST_MOD_DTTM  \n",
       "0       NaN       NaN  2024/10/16 14:04:18+00  \n",
       "1       NaN       NaN  2024/10/16 14:04:18+00  \n",
       "2   -77.034  810050.0  2024/10/16 14:04:18+00  \n",
       "3   -77.031  805720.0  2024/10/16 14:04:18+00  \n",
       "4   -77.031  801948.0  2024/10/16 14:04:18+00  \n",
       "\n",
       "[5 rows x 31 columns]"
      ]
     },
     "execution_count": 44,
     "metadata": {},
     "output_type": "execute_result"
    }
   ],
   "source": [
    "Clean_Parking_Violation_Set.head()"
   ]
  },
  {
   "cell_type": "markdown",
   "metadata": {},
   "source": [
    "To streamline the current analysis and focus on the most impactful variables, I will be removing the following columns. After carefully evaluating their relevance to our objectives, these columns appear to contribute minimal insight or do not directly support the core analysis questions at this stage."
   ]
  },
  {
   "cell_type": "code",
   "execution_count": 45,
   "metadata": {},
   "outputs": [],
   "source": [
    "# indentified a list of columns that are not required or might not contribute for the analysis\n",
    "Columns_to_be_removed = ['VEHICLE_TYPE','MULTI_OWNER_NUMBER','DISPOSITION_CODE','DISPOSITION_TYPE','DISPOSITION_DESC','DISPOSITION_DATE',\n",
    "                         'TOTAL_PAID','PENALTY_1','PENALTY_2','PENALTY_3','PENALTY_4','PENALTY_5','XCOORD','YCOORD','LATITUDE','LONGITUDE','MAR_ID','GIS_LAST_MOD_DTTM']\n",
    "\n",
    "# removed the columns that are not required or might not contribute for the analysis\n",
    "Clean_Parking_Violation= Clean_Parking_Violation_Set.drop(columns=Columns_to_be_removed,errors='ignore')"
   ]
  },
  {
   "cell_type": "code",
   "execution_count": 46,
   "metadata": {},
   "outputs": [
    {
     "data": {
      "text/html": [
       "<div>\n",
       "<style scoped>\n",
       "    .dataframe tbody tr th:only-of-type {\n",
       "        vertical-align: middle;\n",
       "    }\n",
       "\n",
       "    .dataframe tbody tr th {\n",
       "        vertical-align: top;\n",
       "    }\n",
       "\n",
       "    .dataframe thead th {\n",
       "        text-align: right;\n",
       "    }\n",
       "</style>\n",
       "<table border=\"1\" class=\"dataframe\">\n",
       "  <thead>\n",
       "    <tr style=\"text-align: right;\">\n",
       "      <th></th>\n",
       "      <th>OBJECTID</th>\n",
       "      <th>TICKET_NUMBER</th>\n",
       "      <th>VIOLATION_TYPE_DESC</th>\n",
       "      <th>ISSUE_DATE</th>\n",
       "      <th>ISSUE_TIME</th>\n",
       "      <th>ISSUING_AGENCY_CODE</th>\n",
       "      <th>ISSUING_AGENCY_NAME</th>\n",
       "      <th>ISSUING_AGENCY_SHORT</th>\n",
       "      <th>VIOLATION_CODE</th>\n",
       "      <th>VIOLATION_PROC_DESC</th>\n",
       "      <th>LOCATION</th>\n",
       "      <th>PLATE_STATE</th>\n",
       "      <th>FINE_AMOUNT</th>\n",
       "    </tr>\n",
       "  </thead>\n",
       "  <tbody>\n",
       "    <tr>\n",
       "      <th>0</th>\n",
       "      <td>83487425</td>\n",
       "      <td>260566401</td>\n",
       "      <td>P</td>\n",
       "      <td>2024/09/05 04:00:00+00</td>\n",
       "      <td>657</td>\n",
       "      <td>54</td>\n",
       "      <td>ST.ELZBETH HOSPITAL SECURITY GUARDS</td>\n",
       "      <td>SEH</td>\n",
       "      <td>P170</td>\n",
       "      <td>FAILURE TO DISPLAY CURRENT TAGS</td>\n",
       "      <td>FRONT NEW HOSPITAL SE</td>\n",
       "      <td></td>\n",
       "      <td>100</td>\n",
       "    </tr>\n",
       "    <tr>\n",
       "      <th>1</th>\n",
       "      <td>83487426</td>\n",
       "      <td>266969312</td>\n",
       "      <td>P</td>\n",
       "      <td>2024/09/18 04:00:00+00</td>\n",
       "      <td>133</td>\n",
       "      <td>59</td>\n",
       "      <td>US. BUREAU OF ENGRAVING AND PRINTNG</td>\n",
       "      <td>BEP</td>\n",
       "      <td>P055</td>\n",
       "      <td>NO PARKING ANYTIME</td>\n",
       "      <td>ES D STREET SW</td>\n",
       "      <td></td>\n",
       "      <td>30</td>\n",
       "    </tr>\n",
       "    <tr>\n",
       "      <th>2</th>\n",
       "      <td>83487445</td>\n",
       "      <td>266974724</td>\n",
       "      <td>P</td>\n",
       "      <td>2024/09/01 04:00:00+00</td>\n",
       "      <td>1020</td>\n",
       "      <td>59</td>\n",
       "      <td>US. BUREAU OF ENGRAVING AND PRINTNG</td>\n",
       "      <td>BEP</td>\n",
       "      <td>P012</td>\n",
       "      <td>DISOBEYING OFFICIAL SIGN</td>\n",
       "      <td>BLK ES 300 RAOUL WALLENBERG PL SW</td>\n",
       "      <td></td>\n",
       "      <td>30</td>\n",
       "    </tr>\n",
       "    <tr>\n",
       "      <th>3</th>\n",
       "      <td>83487446</td>\n",
       "      <td>266974735</td>\n",
       "      <td>P</td>\n",
       "      <td>2024/09/08 04:00:00+00</td>\n",
       "      <td>1051</td>\n",
       "      <td>59</td>\n",
       "      <td>US. BUREAU OF ENGRAVING AND PRINTNG</td>\n",
       "      <td>BEP</td>\n",
       "      <td>P170</td>\n",
       "      <td>FAILURE TO DISPLAY CURRENT TAGS</td>\n",
       "      <td>SS 1300 BLK C ST SW</td>\n",
       "      <td></td>\n",
       "      <td>100</td>\n",
       "    </tr>\n",
       "    <tr>\n",
       "      <th>4</th>\n",
       "      <td>83487447</td>\n",
       "      <td>266974746</td>\n",
       "      <td>P</td>\n",
       "      <td>2024/09/08 04:00:00+00</td>\n",
       "      <td>1108</td>\n",
       "      <td>59</td>\n",
       "      <td>US. BUREAU OF ENGRAVING AND PRINTNG</td>\n",
       "      <td>BEP</td>\n",
       "      <td>P170</td>\n",
       "      <td>FAILURE TO DISPLAY CURRENT TAGS</td>\n",
       "      <td>NS 1300 BLK D ST SW</td>\n",
       "      <td></td>\n",
       "      <td>100</td>\n",
       "    </tr>\n",
       "  </tbody>\n",
       "</table>\n",
       "</div>"
      ],
      "text/plain": [
       "   OBJECTID  TICKET_NUMBER VIOLATION_TYPE_DESC              ISSUE_DATE  \\\n",
       "0  83487425      260566401                   P  2024/09/05 04:00:00+00   \n",
       "1  83487426      266969312                   P  2024/09/18 04:00:00+00   \n",
       "2  83487445      266974724                   P  2024/09/01 04:00:00+00   \n",
       "3  83487446      266974735                   P  2024/09/08 04:00:00+00   \n",
       "4  83487447      266974746                   P  2024/09/08 04:00:00+00   \n",
       "\n",
       "   ISSUE_TIME  ISSUING_AGENCY_CODE                  ISSUING_AGENCY_NAME  \\\n",
       "0         657                   54  ST.ELZBETH HOSPITAL SECURITY GUARDS   \n",
       "1         133                   59  US. BUREAU OF ENGRAVING AND PRINTNG   \n",
       "2        1020                   59  US. BUREAU OF ENGRAVING AND PRINTNG   \n",
       "3        1051                   59  US. BUREAU OF ENGRAVING AND PRINTNG   \n",
       "4        1108                   59  US. BUREAU OF ENGRAVING AND PRINTNG   \n",
       "\n",
       "  ISSUING_AGENCY_SHORT VIOLATION_CODE              VIOLATION_PROC_DESC  \\\n",
       "0                  SEH           P170  FAILURE TO DISPLAY CURRENT TAGS   \n",
       "1                  BEP           P055               NO PARKING ANYTIME   \n",
       "2                  BEP           P012         DISOBEYING OFFICIAL SIGN   \n",
       "3                  BEP           P170  FAILURE TO DISPLAY CURRENT TAGS   \n",
       "4                  BEP           P170  FAILURE TO DISPLAY CURRENT TAGS   \n",
       "\n",
       "                            LOCATION PLATE_STATE  FINE_AMOUNT  \n",
       "0              FRONT NEW HOSPITAL SE                      100  \n",
       "1                     ES D STREET SW                       30  \n",
       "2  BLK ES 300 RAOUL WALLENBERG PL SW                       30  \n",
       "3                SS 1300 BLK C ST SW                      100  \n",
       "4                NS 1300 BLK D ST SW                      100  "
      ]
     },
     "execution_count": 46,
     "metadata": {},
     "output_type": "execute_result"
    }
   ],
   "source": [
    "Clean_Parking_Violation.head()"
   ]
  },
  {
   "cell_type": "markdown",
   "metadata": {},
   "source": [
    "To ensure data completeness and reliability, I will conduct a thorough assessment to identify any missing values within the dataset. "
   ]
  },
  {
   "cell_type": "code",
   "execution_count": 47,
   "metadata": {},
   "outputs": [
    {
     "name": "stdout",
     "output_type": "stream",
     "text": [
      "<class 'pandas.core.frame.DataFrame'>\n",
      "RangeIndex: 98493 entries, 0 to 98492\n",
      "Data columns (total 13 columns):\n",
      " #   Column                Non-Null Count  Dtype \n",
      "---  ------                --------------  ----- \n",
      " 0   OBJECTID              98493 non-null  int64 \n",
      " 1   TICKET_NUMBER         98493 non-null  int64 \n",
      " 2   VIOLATION_TYPE_DESC   98493 non-null  object\n",
      " 3   ISSUE_DATE            98493 non-null  object\n",
      " 4   ISSUE_TIME            98493 non-null  int64 \n",
      " 5   ISSUING_AGENCY_CODE   98493 non-null  int64 \n",
      " 6   ISSUING_AGENCY_NAME   98493 non-null  object\n",
      " 7   ISSUING_AGENCY_SHORT  98493 non-null  object\n",
      " 8   VIOLATION_CODE        98493 non-null  object\n",
      " 9   VIOLATION_PROC_DESC   98485 non-null  object\n",
      " 10  LOCATION              98493 non-null  object\n",
      " 11  PLATE_STATE           98493 non-null  object\n",
      " 12  FINE_AMOUNT           98493 non-null  int64 \n",
      "dtypes: int64(5), object(8)\n",
      "memory usage: 9.8+ MB\n"
     ]
    },
    {
     "data": {
      "text/plain": [
       "OBJECTID                0\n",
       "TICKET_NUMBER           0\n",
       "VIOLATION_TYPE_DESC     0\n",
       "ISSUE_DATE              0\n",
       "ISSUE_TIME              0\n",
       "ISSUING_AGENCY_CODE     0\n",
       "ISSUING_AGENCY_NAME     0\n",
       "ISSUING_AGENCY_SHORT    0\n",
       "VIOLATION_CODE          0\n",
       "VIOLATION_PROC_DESC     8\n",
       "LOCATION                0\n",
       "PLATE_STATE             0\n",
       "FINE_AMOUNT             0\n",
       "dtype: int64"
      ]
     },
     "execution_count": 47,
     "metadata": {},
     "output_type": "execute_result"
    }
   ],
   "source": [
    "Clean_Parking_Violation.info()\n",
    "Clean_Parking_Violation.isnull().sum()"
   ]
  },
  {
   "cell_type": "markdown",
   "metadata": {},
   "source": [
    "To effectively analyze and visualize parking violations by location, I will break down the date field into separate columns for year, month, and day. This granular breakdown will enable us to observe time-based patterns in violations and enhance the clarity of our visualizations."
   ]
  },
  {
   "cell_type": "code",
   "execution_count": 48,
   "metadata": {},
   "outputs": [
    {
     "data": {
      "text/html": [
       "<div>\n",
       "<style scoped>\n",
       "    .dataframe tbody tr th:only-of-type {\n",
       "        vertical-align: middle;\n",
       "    }\n",
       "\n",
       "    .dataframe tbody tr th {\n",
       "        vertical-align: top;\n",
       "    }\n",
       "\n",
       "    .dataframe thead th {\n",
       "        text-align: right;\n",
       "    }\n",
       "</style>\n",
       "<table border=\"1\" class=\"dataframe\">\n",
       "  <thead>\n",
       "    <tr style=\"text-align: right;\">\n",
       "      <th></th>\n",
       "      <th>OBJECTID</th>\n",
       "      <th>TICKET_NUMBER</th>\n",
       "      <th>VIOLATION_TYPE_DESC</th>\n",
       "      <th>ISSUE_DATE</th>\n",
       "      <th>ISSUE_TIME</th>\n",
       "      <th>ISSUING_AGENCY_CODE</th>\n",
       "      <th>ISSUING_AGENCY_NAME</th>\n",
       "      <th>ISSUING_AGENCY_SHORT</th>\n",
       "      <th>VIOLATION_CODE</th>\n",
       "      <th>VIOLATION_PROC_DESC</th>\n",
       "      <th>LOCATION</th>\n",
       "      <th>PLATE_STATE</th>\n",
       "      <th>FINE_AMOUNT</th>\n",
       "      <th>ISSUE_TIME_HHMM</th>\n",
       "      <th>ISSUE_YEAR</th>\n",
       "      <th>ISSUE_MONTH</th>\n",
       "      <th>ISSUE_DAY</th>\n",
       "    </tr>\n",
       "  </thead>\n",
       "  <tbody>\n",
       "    <tr>\n",
       "      <th>0</th>\n",
       "      <td>83487425</td>\n",
       "      <td>260566401</td>\n",
       "      <td>P</td>\n",
       "      <td>2024-09-05 04:00:00+00:00</td>\n",
       "      <td>657</td>\n",
       "      <td>54</td>\n",
       "      <td>ST.ELZBETH HOSPITAL SECURITY GUARDS</td>\n",
       "      <td>SEH</td>\n",
       "      <td>P170</td>\n",
       "      <td>FAILURE TO DISPLAY CURRENT TAGS</td>\n",
       "      <td>FRONT NEW HOSPITAL SE</td>\n",
       "      <td></td>\n",
       "      <td>100</td>\n",
       "      <td>06:57</td>\n",
       "      <td>2024</td>\n",
       "      <td>9</td>\n",
       "      <td>5</td>\n",
       "    </tr>\n",
       "    <tr>\n",
       "      <th>1</th>\n",
       "      <td>83487426</td>\n",
       "      <td>266969312</td>\n",
       "      <td>P</td>\n",
       "      <td>2024-09-18 04:00:00+00:00</td>\n",
       "      <td>133</td>\n",
       "      <td>59</td>\n",
       "      <td>US. BUREAU OF ENGRAVING AND PRINTNG</td>\n",
       "      <td>BEP</td>\n",
       "      <td>P055</td>\n",
       "      <td>NO PARKING ANYTIME</td>\n",
       "      <td>ES D STREET SW</td>\n",
       "      <td></td>\n",
       "      <td>30</td>\n",
       "      <td>01:33</td>\n",
       "      <td>2024</td>\n",
       "      <td>9</td>\n",
       "      <td>18</td>\n",
       "    </tr>\n",
       "    <tr>\n",
       "      <th>2</th>\n",
       "      <td>83487445</td>\n",
       "      <td>266974724</td>\n",
       "      <td>P</td>\n",
       "      <td>2024-09-01 04:00:00+00:00</td>\n",
       "      <td>1020</td>\n",
       "      <td>59</td>\n",
       "      <td>US. BUREAU OF ENGRAVING AND PRINTNG</td>\n",
       "      <td>BEP</td>\n",
       "      <td>P012</td>\n",
       "      <td>DISOBEYING OFFICIAL SIGN</td>\n",
       "      <td>BLK ES 300 RAOUL WALLENBERG PL SW</td>\n",
       "      <td></td>\n",
       "      <td>30</td>\n",
       "      <td>10:20</td>\n",
       "      <td>2024</td>\n",
       "      <td>9</td>\n",
       "      <td>1</td>\n",
       "    </tr>\n",
       "    <tr>\n",
       "      <th>3</th>\n",
       "      <td>83487446</td>\n",
       "      <td>266974735</td>\n",
       "      <td>P</td>\n",
       "      <td>2024-09-08 04:00:00+00:00</td>\n",
       "      <td>1051</td>\n",
       "      <td>59</td>\n",
       "      <td>US. BUREAU OF ENGRAVING AND PRINTNG</td>\n",
       "      <td>BEP</td>\n",
       "      <td>P170</td>\n",
       "      <td>FAILURE TO DISPLAY CURRENT TAGS</td>\n",
       "      <td>SS 1300 BLK C ST SW</td>\n",
       "      <td></td>\n",
       "      <td>100</td>\n",
       "      <td>10:51</td>\n",
       "      <td>2024</td>\n",
       "      <td>9</td>\n",
       "      <td>8</td>\n",
       "    </tr>\n",
       "    <tr>\n",
       "      <th>4</th>\n",
       "      <td>83487447</td>\n",
       "      <td>266974746</td>\n",
       "      <td>P</td>\n",
       "      <td>2024-09-08 04:00:00+00:00</td>\n",
       "      <td>1108</td>\n",
       "      <td>59</td>\n",
       "      <td>US. BUREAU OF ENGRAVING AND PRINTNG</td>\n",
       "      <td>BEP</td>\n",
       "      <td>P170</td>\n",
       "      <td>FAILURE TO DISPLAY CURRENT TAGS</td>\n",
       "      <td>NS 1300 BLK D ST SW</td>\n",
       "      <td></td>\n",
       "      <td>100</td>\n",
       "      <td>11:08</td>\n",
       "      <td>2024</td>\n",
       "      <td>9</td>\n",
       "      <td>8</td>\n",
       "    </tr>\n",
       "  </tbody>\n",
       "</table>\n",
       "</div>"
      ],
      "text/plain": [
       "   OBJECTID  TICKET_NUMBER VIOLATION_TYPE_DESC                ISSUE_DATE  \\\n",
       "0  83487425      260566401                   P 2024-09-05 04:00:00+00:00   \n",
       "1  83487426      266969312                   P 2024-09-18 04:00:00+00:00   \n",
       "2  83487445      266974724                   P 2024-09-01 04:00:00+00:00   \n",
       "3  83487446      266974735                   P 2024-09-08 04:00:00+00:00   \n",
       "4  83487447      266974746                   P 2024-09-08 04:00:00+00:00   \n",
       "\n",
       "   ISSUE_TIME  ISSUING_AGENCY_CODE                  ISSUING_AGENCY_NAME  \\\n",
       "0         657                   54  ST.ELZBETH HOSPITAL SECURITY GUARDS   \n",
       "1         133                   59  US. BUREAU OF ENGRAVING AND PRINTNG   \n",
       "2        1020                   59  US. BUREAU OF ENGRAVING AND PRINTNG   \n",
       "3        1051                   59  US. BUREAU OF ENGRAVING AND PRINTNG   \n",
       "4        1108                   59  US. BUREAU OF ENGRAVING AND PRINTNG   \n",
       "\n",
       "  ISSUING_AGENCY_SHORT VIOLATION_CODE              VIOLATION_PROC_DESC  \\\n",
       "0                  SEH           P170  FAILURE TO DISPLAY CURRENT TAGS   \n",
       "1                  BEP           P055               NO PARKING ANYTIME   \n",
       "2                  BEP           P012         DISOBEYING OFFICIAL SIGN   \n",
       "3                  BEP           P170  FAILURE TO DISPLAY CURRENT TAGS   \n",
       "4                  BEP           P170  FAILURE TO DISPLAY CURRENT TAGS   \n",
       "\n",
       "                            LOCATION PLATE_STATE  FINE_AMOUNT ISSUE_TIME_HHMM  \\\n",
       "0              FRONT NEW HOSPITAL SE                      100           06:57   \n",
       "1                     ES D STREET SW                       30           01:33   \n",
       "2  BLK ES 300 RAOUL WALLENBERG PL SW                       30           10:20   \n",
       "3                SS 1300 BLK C ST SW                      100           10:51   \n",
       "4                NS 1300 BLK D ST SW                      100           11:08   \n",
       "\n",
       "   ISSUE_YEAR  ISSUE_MONTH  ISSUE_DAY  \n",
       "0        2024            9          5  \n",
       "1        2024            9         18  \n",
       "2        2024            9          1  \n",
       "3        2024            9          8  \n",
       "4        2024            9          8  "
      ]
     },
     "execution_count": 48,
     "metadata": {},
     "output_type": "execute_result"
    }
   ],
   "source": [
    "\n",
    "# Define the convert_to_hhmm function\n",
    "def convert_to_hhmm(time_value):\n",
    "    if pd.isna(time_value) or time_value < 0:\n",
    "        return None\n",
    "    time_value = int(time_value)\n",
    "    hours = time_value // 100\n",
    "    minutes = time_value % 100\n",
    "    if minutes >= 60:\n",
    "        return None\n",
    "    return f\"{hours:02}:{minutes:02}\"\n",
    "\n",
    "# Reapply the function to the ISSUE_TIME column to create ISSUE_TIME_HHMM\n",
    "Clean_Parking_Violation['ISSUE_TIME_HHMM'] = Clean_Parking_Violation['ISSUE_TIME'].apply(convert_to_hhmm)\n",
    "\n",
    "# Display the resulting DataFrame to confirm changes\n",
    "Clean_Parking_Violation.head()\n",
    "\n",
    "\n",
    "# Convert the ISSUE_DATE column to datetime format\n",
    "Clean_Parking_Violation['ISSUE_DATE'] = pd.to_datetime(Clean_Parking_Violation['ISSUE_DATE'], errors='coerce')\n",
    "\n",
    "# Extract year, month, and day into separate columns\n",
    "Clean_Parking_Violation['ISSUE_YEAR'] = Clean_Parking_Violation['ISSUE_DATE'].dt.year\n",
    "Clean_Parking_Violation['ISSUE_MONTH'] = Clean_Parking_Violation['ISSUE_DATE'].dt.month\n",
    "Clean_Parking_Violation['ISSUE_DAY'] = Clean_Parking_Violation['ISSUE_DATE'].dt.day\n",
    "\n",
    "# Convert ISSUE_TIME to a numeric type, coercing non-numeric values to NaN\n",
    "Clean_Parking_Violation['ISSUE_TIME'] = pd.to_numeric(Clean_Parking_Violation['ISSUE_TIME'], errors='coerce')\n",
    "\n",
    "# Apply the convert_to_hhmm function to create ISSUE_TIME_HHMM\n",
    "Clean_Parking_Violation['ISSUE_TIME_HHMM'] = Clean_Parking_Violation['ISSUE_TIME'].apply(convert_to_hhmm)\n",
    "\n",
    "# Display the resulting DataFrame\n",
    "Clean_Parking_Violation.head()\n"
   ]
  },
  {
   "cell_type": "code",
   "execution_count": 49,
   "metadata": {},
   "outputs": [
    {
     "data": {
      "text/html": [
       "<div>\n",
       "<style scoped>\n",
       "    .dataframe tbody tr th:only-of-type {\n",
       "        vertical-align: middle;\n",
       "    }\n",
       "\n",
       "    .dataframe tbody tr th {\n",
       "        vertical-align: top;\n",
       "    }\n",
       "\n",
       "    .dataframe thead th {\n",
       "        text-align: right;\n",
       "    }\n",
       "</style>\n",
       "<table border=\"1\" class=\"dataframe\">\n",
       "  <thead>\n",
       "    <tr style=\"text-align: right;\">\n",
       "      <th></th>\n",
       "      <th>OBJECTID</th>\n",
       "      <th>TICKET_NUMBER</th>\n",
       "      <th>VIOLATION_TYPE_DESC</th>\n",
       "      <th>ISSUE_DATE</th>\n",
       "      <th>ISSUE_TIME</th>\n",
       "      <th>ISSUING_AGENCY_CODE</th>\n",
       "      <th>ISSUING_AGENCY_NAME</th>\n",
       "      <th>ISSUING_AGENCY_SHORT</th>\n",
       "      <th>VIOLATION_CODE</th>\n",
       "      <th>VIOLATION_PROC_DESC</th>\n",
       "      <th>LOCATION</th>\n",
       "      <th>PLATE_STATE</th>\n",
       "      <th>FINE_AMOUNT</th>\n",
       "      <th>ISSUE_TIME_HHMM</th>\n",
       "      <th>ISSUE_YEAR</th>\n",
       "      <th>ISSUE_MONTH</th>\n",
       "      <th>ISSUE_DAY</th>\n",
       "      <th>ISSUE_MONTH_TEXT</th>\n",
       "      <th>ISSUE_DAY_OF_WEEK</th>\n",
       "    </tr>\n",
       "  </thead>\n",
       "  <tbody>\n",
       "    <tr>\n",
       "      <th>0</th>\n",
       "      <td>83487425</td>\n",
       "      <td>260566401</td>\n",
       "      <td>P</td>\n",
       "      <td>2024-09-05 04:00:00+00:00</td>\n",
       "      <td>657</td>\n",
       "      <td>54</td>\n",
       "      <td>ST.ELZBETH HOSPITAL SECURITY GUARDS</td>\n",
       "      <td>SEH</td>\n",
       "      <td>P170</td>\n",
       "      <td>FAILURE TO DISPLAY CURRENT TAGS</td>\n",
       "      <td>FRONT NEW HOSPITAL SE</td>\n",
       "      <td></td>\n",
       "      <td>100</td>\n",
       "      <td>06:57</td>\n",
       "      <td>2024</td>\n",
       "      <td>9</td>\n",
       "      <td>5</td>\n",
       "      <td>September</td>\n",
       "      <td>Thursday</td>\n",
       "    </tr>\n",
       "    <tr>\n",
       "      <th>1</th>\n",
       "      <td>83487426</td>\n",
       "      <td>266969312</td>\n",
       "      <td>P</td>\n",
       "      <td>2024-09-18 04:00:00+00:00</td>\n",
       "      <td>133</td>\n",
       "      <td>59</td>\n",
       "      <td>US. BUREAU OF ENGRAVING AND PRINTNG</td>\n",
       "      <td>BEP</td>\n",
       "      <td>P055</td>\n",
       "      <td>NO PARKING ANYTIME</td>\n",
       "      <td>ES D STREET SW</td>\n",
       "      <td></td>\n",
       "      <td>30</td>\n",
       "      <td>01:33</td>\n",
       "      <td>2024</td>\n",
       "      <td>9</td>\n",
       "      <td>18</td>\n",
       "      <td>September</td>\n",
       "      <td>Wednesday</td>\n",
       "    </tr>\n",
       "    <tr>\n",
       "      <th>2</th>\n",
       "      <td>83487445</td>\n",
       "      <td>266974724</td>\n",
       "      <td>P</td>\n",
       "      <td>2024-09-01 04:00:00+00:00</td>\n",
       "      <td>1020</td>\n",
       "      <td>59</td>\n",
       "      <td>US. BUREAU OF ENGRAVING AND PRINTNG</td>\n",
       "      <td>BEP</td>\n",
       "      <td>P012</td>\n",
       "      <td>DISOBEYING OFFICIAL SIGN</td>\n",
       "      <td>BLK ES 300 RAOUL WALLENBERG PL SW</td>\n",
       "      <td></td>\n",
       "      <td>30</td>\n",
       "      <td>10:20</td>\n",
       "      <td>2024</td>\n",
       "      <td>9</td>\n",
       "      <td>1</td>\n",
       "      <td>September</td>\n",
       "      <td>Sunday</td>\n",
       "    </tr>\n",
       "    <tr>\n",
       "      <th>3</th>\n",
       "      <td>83487446</td>\n",
       "      <td>266974735</td>\n",
       "      <td>P</td>\n",
       "      <td>2024-09-08 04:00:00+00:00</td>\n",
       "      <td>1051</td>\n",
       "      <td>59</td>\n",
       "      <td>US. BUREAU OF ENGRAVING AND PRINTNG</td>\n",
       "      <td>BEP</td>\n",
       "      <td>P170</td>\n",
       "      <td>FAILURE TO DISPLAY CURRENT TAGS</td>\n",
       "      <td>SS 1300 BLK C ST SW</td>\n",
       "      <td></td>\n",
       "      <td>100</td>\n",
       "      <td>10:51</td>\n",
       "      <td>2024</td>\n",
       "      <td>9</td>\n",
       "      <td>8</td>\n",
       "      <td>September</td>\n",
       "      <td>Sunday</td>\n",
       "    </tr>\n",
       "    <tr>\n",
       "      <th>4</th>\n",
       "      <td>83487447</td>\n",
       "      <td>266974746</td>\n",
       "      <td>P</td>\n",
       "      <td>2024-09-08 04:00:00+00:00</td>\n",
       "      <td>1108</td>\n",
       "      <td>59</td>\n",
       "      <td>US. BUREAU OF ENGRAVING AND PRINTNG</td>\n",
       "      <td>BEP</td>\n",
       "      <td>P170</td>\n",
       "      <td>FAILURE TO DISPLAY CURRENT TAGS</td>\n",
       "      <td>NS 1300 BLK D ST SW</td>\n",
       "      <td></td>\n",
       "      <td>100</td>\n",
       "      <td>11:08</td>\n",
       "      <td>2024</td>\n",
       "      <td>9</td>\n",
       "      <td>8</td>\n",
       "      <td>September</td>\n",
       "      <td>Sunday</td>\n",
       "    </tr>\n",
       "  </tbody>\n",
       "</table>\n",
       "</div>"
      ],
      "text/plain": [
       "   OBJECTID  TICKET_NUMBER VIOLATION_TYPE_DESC                ISSUE_DATE  \\\n",
       "0  83487425      260566401                   P 2024-09-05 04:00:00+00:00   \n",
       "1  83487426      266969312                   P 2024-09-18 04:00:00+00:00   \n",
       "2  83487445      266974724                   P 2024-09-01 04:00:00+00:00   \n",
       "3  83487446      266974735                   P 2024-09-08 04:00:00+00:00   \n",
       "4  83487447      266974746                   P 2024-09-08 04:00:00+00:00   \n",
       "\n",
       "   ISSUE_TIME  ISSUING_AGENCY_CODE                  ISSUING_AGENCY_NAME  \\\n",
       "0         657                   54  ST.ELZBETH HOSPITAL SECURITY GUARDS   \n",
       "1         133                   59  US. BUREAU OF ENGRAVING AND PRINTNG   \n",
       "2        1020                   59  US. BUREAU OF ENGRAVING AND PRINTNG   \n",
       "3        1051                   59  US. BUREAU OF ENGRAVING AND PRINTNG   \n",
       "4        1108                   59  US. BUREAU OF ENGRAVING AND PRINTNG   \n",
       "\n",
       "  ISSUING_AGENCY_SHORT VIOLATION_CODE              VIOLATION_PROC_DESC  \\\n",
       "0                  SEH           P170  FAILURE TO DISPLAY CURRENT TAGS   \n",
       "1                  BEP           P055               NO PARKING ANYTIME   \n",
       "2                  BEP           P012         DISOBEYING OFFICIAL SIGN   \n",
       "3                  BEP           P170  FAILURE TO DISPLAY CURRENT TAGS   \n",
       "4                  BEP           P170  FAILURE TO DISPLAY CURRENT TAGS   \n",
       "\n",
       "                            LOCATION PLATE_STATE  FINE_AMOUNT ISSUE_TIME_HHMM  \\\n",
       "0              FRONT NEW HOSPITAL SE                      100           06:57   \n",
       "1                     ES D STREET SW                       30           01:33   \n",
       "2  BLK ES 300 RAOUL WALLENBERG PL SW                       30           10:20   \n",
       "3                SS 1300 BLK C ST SW                      100           10:51   \n",
       "4                NS 1300 BLK D ST SW                      100           11:08   \n",
       "\n",
       "   ISSUE_YEAR  ISSUE_MONTH  ISSUE_DAY ISSUE_MONTH_TEXT ISSUE_DAY_OF_WEEK  \n",
       "0        2024            9          5        September          Thursday  \n",
       "1        2024            9         18        September         Wednesday  \n",
       "2        2024            9          1        September            Sunday  \n",
       "3        2024            9          8        September            Sunday  \n",
       "4        2024            9          8        September            Sunday  "
      ]
     },
     "execution_count": 49,
     "metadata": {},
     "output_type": "execute_result"
    }
   ],
   "source": [
    "# ... (previous code remains the same)\n",
    "\n",
    "# Convert ISSUE_MONTH to full month names\n",
    "Clean_Parking_Violation['ISSUE_MONTH_TEXT'] = Clean_Parking_Violation['ISSUE_DATE'].dt.strftime('%B')\n",
    "\n",
    "# Convert ISSUE_DAY to weekday names\n",
    "Clean_Parking_Violation['ISSUE_DAY_OF_WEEK'] = Clean_Parking_Violation['ISSUE_DATE'].dt.day_name()\n",
    "\n",
    "# Alternatively, if you want to keep the original ISSUE_MONTH and ISSUE_DAY columns as is\n",
    "# and derive the text columns from them (without using ISSUE_DATE):\n",
    "# Clean_Parking_Violation['ISSUE_MONTH_TEXT'] = Clean_Parking_Violation['ISSUE_MONTH'].apply(lambda x: calendar.month_name[x] if not pd.isna(x) else None)\n",
    "# Clean_Parking_Violation['ISSUE_DAY_OF_WEEK'] = Clean_Parking_Violation['ISSUE_DATE'].dt.day_name()  # This still needs ISSUE_DATE, so we stick with the first approach for consistency\n",
    "\n",
    "# Display the resulting DataFrame\n",
    "Clean_Parking_Violation.head()\n"
   ]
  },
  {
   "cell_type": "code",
   "execution_count": 50,
   "metadata": {},
   "outputs": [],
   "source": [
    "Clean_Parking_Violation.to_csv('c:/Users/srika/New folder/Courses/Inderactive Data_/Final Project/Final Project Parking/newly_Cleaned.csv')"
   ]
  },
  {
   "cell_type": "markdown",
   "metadata": {},
   "source": [
    "### Objective: Identifying Top Locations for Parking Violations\n",
    "\n",
    "The primary objective is to pinpoint the top locations where parking violations occur most frequently. This can be achieved through a two-step process:\n",
    "\n",
    "1. **Counting Violations by Location:**  \n",
    "   Using the `violation location` column, I will count the number of violations at each unique location. This analysis will provide a detailed breakdown of the frequency of violations for each area, helping us understand which locations see the highest infraction rates.\n",
    "\n",
    "2. **Filtering to Top N Locations:**  \n",
    "   To enhance clarity in visualizations, I will filter and display only the top N locations with the highest violation counts. This filtering will highlight key hotspots without cluttering the visualization, making it easier to discern significant trends.\n",
    "\n",
    "### Expected Outcomes\n",
    "This approach will offer a clear view of high-violation areas, which can be analyzed further over time to uncover trends or periodic patterns in parking violations."
   ]
  },
  {
   "cell_type": "code",
   "execution_count": 51,
   "metadata": {},
   "outputs": [
    {
     "name": "stdout",
     "output_type": "stream",
     "text": [
      "                              LOCATION  VIOLATION_COUNT\n",
      "0     600 BLOCK MAINE AVE SW NORTH SI*              412\n",
      "1     800 BLOCK MAINE AVE SW NORTH SI*              394\n",
      "2     600 BLOCK NEW JERSEY AVE SE WES*              310\n",
      "3       900 BLOCK 23RD ST NW EAST SIDE              275\n",
      "4       200 BLOCK 15TH ST NW EAST SIDE              237\n",
      "5       400 BLOCK EYE ST NW SOUTH SIDE              232\n",
      "6        1300 BLOCK Q ST NW NORTH SIDE              226\n",
      "7     1400 BLOCK OKIE ST NE SOUTH SIDE              222\n",
      "8       400 BLOCK EYE ST NW NORTH SIDE              218\n",
      "9       1000 BLOCK 5TH ST NW WEST SIDE              211\n"
     ]
    }
   ],
   "source": [
    "# Calculate location frequencies and sort in descending order\n",
    "top_locations = Clean_Parking_Violation['LOCATION'].value_counts().reset_index()\n",
    "top_locations.columns = ['LOCATION', 'VIOLATION_COUNT']\n",
    "\n",
    "# Optional: Filter to show only top N locations (e.g., top 10)\n",
    "top_n_locations = 10\n",
    "top_locations = top_locations.nlargest(top_n_locations, 'VIOLATION_COUNT')\n",
    "\n",
    "# Display the results\n",
    "print(top_locations)\n"
   ]
  },
  {
   "cell_type": "code",
   "execution_count": 52,
   "metadata": {},
   "outputs": [],
   "source": [
    "# Group by location and count the number of violations\n",
    "location_counts = Clean_Parking_Violation.groupby('LOCATION')['TICKET_NUMBER'].count().reset_index()\n"
   ]
  },
  {
   "cell_type": "code",
   "execution_count": 53,
   "metadata": {},
   "outputs": [],
   "source": [
    "# Sort the locations by violation count in descending order\n",
    "location_counts = location_counts.sort_values('TICKET_NUMBER', ascending=False)\n"
   ]
  },
  {
   "cell_type": "code",
   "execution_count": 54,
   "metadata": {},
   "outputs": [
    {
     "data": {
      "application/vnd.plotly.v1+json": {
       "config": {
        "plotlyServerURL": "https://plot.ly"
       },
       "data": [
        {
         "alignmentgroup": "True",
         "hovertemplate": "Number of Violations=%{marker.color}<br>Location=%{y}<extra></extra>",
         "legendgroup": "",
         "marker": {
          "color": [
           412,
           394,
           310,
           275,
           237,
           232,
           226,
           222,
           218,
           211
          ],
          "coloraxis": "coloraxis",
          "pattern": {
           "shape": ""
          }
         },
         "name": "",
         "offsetgroup": "",
         "orientation": "h",
         "showlegend": false,
         "text": [
          412,
          394,
          310,
          275,
          237,
          232,
          226,
          222,
          218,
          211
         ],
         "textposition": "auto",
         "type": "bar",
         "x": [
          412,
          394,
          310,
          275,
          237,
          232,
          226,
          222,
          218,
          211
         ],
         "xaxis": "x",
         "y": [
          "   600 BLOCK MAINE AVE SW NORTH SI*",
          "   800 BLOCK MAINE AVE SW NORTH SI*",
          "   600 BLOCK NEW JERSEY AVE SE WES*",
          "   900 BLOCK 23RD ST NW EAST SIDE",
          "   200 BLOCK 15TH ST NW EAST SIDE",
          "   400 BLOCK EYE ST NW SOUTH SIDE",
          "  1300 BLOCK Q ST NW NORTH SIDE",
          "  1400 BLOCK OKIE ST NE SOUTH SIDE",
          "   400 BLOCK EYE ST NW NORTH SIDE",
          "  1000 BLOCK 5TH ST NW WEST SIDE"
         ],
         "yaxis": "y"
        }
       ],
       "layout": {
        "barmode": "relative",
        "coloraxis": {
         "colorbar": {
          "title": {
           "text": "Number of Violations"
          }
         },
         "colorscale": [
          [
           0,
           "red"
          ],
          [
           0.5,
           "skyblue"
          ],
          [
           1,
           "green"
          ]
         ]
        },
        "legend": {
         "tracegroupgap": 0
        },
        "showlegend": false,
        "template": {
         "data": {
          "bar": [
           {
            "error_x": {
             "color": "#2a3f5f"
            },
            "error_y": {
             "color": "#2a3f5f"
            },
            "marker": {
             "line": {
              "color": "#E5ECF6",
              "width": 0.5
             },
             "pattern": {
              "fillmode": "overlay",
              "size": 10,
              "solidity": 0.2
             }
            },
            "type": "bar"
           }
          ],
          "barpolar": [
           {
            "marker": {
             "line": {
              "color": "#E5ECF6",
              "width": 0.5
             },
             "pattern": {
              "fillmode": "overlay",
              "size": 10,
              "solidity": 0.2
             }
            },
            "type": "barpolar"
           }
          ],
          "carpet": [
           {
            "aaxis": {
             "endlinecolor": "#2a3f5f",
             "gridcolor": "white",
             "linecolor": "white",
             "minorgridcolor": "white",
             "startlinecolor": "#2a3f5f"
            },
            "baxis": {
             "endlinecolor": "#2a3f5f",
             "gridcolor": "white",
             "linecolor": "white",
             "minorgridcolor": "white",
             "startlinecolor": "#2a3f5f"
            },
            "type": "carpet"
           }
          ],
          "choropleth": [
           {
            "colorbar": {
             "outlinewidth": 0,
             "ticks": ""
            },
            "type": "choropleth"
           }
          ],
          "contour": [
           {
            "colorbar": {
             "outlinewidth": 0,
             "ticks": ""
            },
            "colorscale": [
             [
              0,
              "#0d0887"
             ],
             [
              0.1111111111111111,
              "#46039f"
             ],
             [
              0.2222222222222222,
              "#7201a8"
             ],
             [
              0.3333333333333333,
              "#9c179e"
             ],
             [
              0.4444444444444444,
              "#bd3786"
             ],
             [
              0.5555555555555556,
              "#d8576b"
             ],
             [
              0.6666666666666666,
              "#ed7953"
             ],
             [
              0.7777777777777778,
              "#fb9f3a"
             ],
             [
              0.8888888888888888,
              "#fdca26"
             ],
             [
              1,
              "#f0f921"
             ]
            ],
            "type": "contour"
           }
          ],
          "contourcarpet": [
           {
            "colorbar": {
             "outlinewidth": 0,
             "ticks": ""
            },
            "type": "contourcarpet"
           }
          ],
          "heatmap": [
           {
            "colorbar": {
             "outlinewidth": 0,
             "ticks": ""
            },
            "colorscale": [
             [
              0,
              "#0d0887"
             ],
             [
              0.1111111111111111,
              "#46039f"
             ],
             [
              0.2222222222222222,
              "#7201a8"
             ],
             [
              0.3333333333333333,
              "#9c179e"
             ],
             [
              0.4444444444444444,
              "#bd3786"
             ],
             [
              0.5555555555555556,
              "#d8576b"
             ],
             [
              0.6666666666666666,
              "#ed7953"
             ],
             [
              0.7777777777777778,
              "#fb9f3a"
             ],
             [
              0.8888888888888888,
              "#fdca26"
             ],
             [
              1,
              "#f0f921"
             ]
            ],
            "type": "heatmap"
           }
          ],
          "heatmapgl": [
           {
            "colorbar": {
             "outlinewidth": 0,
             "ticks": ""
            },
            "colorscale": [
             [
              0,
              "#0d0887"
             ],
             [
              0.1111111111111111,
              "#46039f"
             ],
             [
              0.2222222222222222,
              "#7201a8"
             ],
             [
              0.3333333333333333,
              "#9c179e"
             ],
             [
              0.4444444444444444,
              "#bd3786"
             ],
             [
              0.5555555555555556,
              "#d8576b"
             ],
             [
              0.6666666666666666,
              "#ed7953"
             ],
             [
              0.7777777777777778,
              "#fb9f3a"
             ],
             [
              0.8888888888888888,
              "#fdca26"
             ],
             [
              1,
              "#f0f921"
             ]
            ],
            "type": "heatmapgl"
           }
          ],
          "histogram": [
           {
            "marker": {
             "pattern": {
              "fillmode": "overlay",
              "size": 10,
              "solidity": 0.2
             }
            },
            "type": "histogram"
           }
          ],
          "histogram2d": [
           {
            "colorbar": {
             "outlinewidth": 0,
             "ticks": ""
            },
            "colorscale": [
             [
              0,
              "#0d0887"
             ],
             [
              0.1111111111111111,
              "#46039f"
             ],
             [
              0.2222222222222222,
              "#7201a8"
             ],
             [
              0.3333333333333333,
              "#9c179e"
             ],
             [
              0.4444444444444444,
              "#bd3786"
             ],
             [
              0.5555555555555556,
              "#d8576b"
             ],
             [
              0.6666666666666666,
              "#ed7953"
             ],
             [
              0.7777777777777778,
              "#fb9f3a"
             ],
             [
              0.8888888888888888,
              "#fdca26"
             ],
             [
              1,
              "#f0f921"
             ]
            ],
            "type": "histogram2d"
           }
          ],
          "histogram2dcontour": [
           {
            "colorbar": {
             "outlinewidth": 0,
             "ticks": ""
            },
            "colorscale": [
             [
              0,
              "#0d0887"
             ],
             [
              0.1111111111111111,
              "#46039f"
             ],
             [
              0.2222222222222222,
              "#7201a8"
             ],
             [
              0.3333333333333333,
              "#9c179e"
             ],
             [
              0.4444444444444444,
              "#bd3786"
             ],
             [
              0.5555555555555556,
              "#d8576b"
             ],
             [
              0.6666666666666666,
              "#ed7953"
             ],
             [
              0.7777777777777778,
              "#fb9f3a"
             ],
             [
              0.8888888888888888,
              "#fdca26"
             ],
             [
              1,
              "#f0f921"
             ]
            ],
            "type": "histogram2dcontour"
           }
          ],
          "mesh3d": [
           {
            "colorbar": {
             "outlinewidth": 0,
             "ticks": ""
            },
            "type": "mesh3d"
           }
          ],
          "parcoords": [
           {
            "line": {
             "colorbar": {
              "outlinewidth": 0,
              "ticks": ""
             }
            },
            "type": "parcoords"
           }
          ],
          "pie": [
           {
            "automargin": true,
            "type": "pie"
           }
          ],
          "scatter": [
           {
            "fillpattern": {
             "fillmode": "overlay",
             "size": 10,
             "solidity": 0.2
            },
            "type": "scatter"
           }
          ],
          "scatter3d": [
           {
            "line": {
             "colorbar": {
              "outlinewidth": 0,
              "ticks": ""
             }
            },
            "marker": {
             "colorbar": {
              "outlinewidth": 0,
              "ticks": ""
             }
            },
            "type": "scatter3d"
           }
          ],
          "scattercarpet": [
           {
            "marker": {
             "colorbar": {
              "outlinewidth": 0,
              "ticks": ""
             }
            },
            "type": "scattercarpet"
           }
          ],
          "scattergeo": [
           {
            "marker": {
             "colorbar": {
              "outlinewidth": 0,
              "ticks": ""
             }
            },
            "type": "scattergeo"
           }
          ],
          "scattergl": [
           {
            "marker": {
             "colorbar": {
              "outlinewidth": 0,
              "ticks": ""
             }
            },
            "type": "scattergl"
           }
          ],
          "scattermapbox": [
           {
            "marker": {
             "colorbar": {
              "outlinewidth": 0,
              "ticks": ""
             }
            },
            "type": "scattermapbox"
           }
          ],
          "scatterpolar": [
           {
            "marker": {
             "colorbar": {
              "outlinewidth": 0,
              "ticks": ""
             }
            },
            "type": "scatterpolar"
           }
          ],
          "scatterpolargl": [
           {
            "marker": {
             "colorbar": {
              "outlinewidth": 0,
              "ticks": ""
             }
            },
            "type": "scatterpolargl"
           }
          ],
          "scatterternary": [
           {
            "marker": {
             "colorbar": {
              "outlinewidth": 0,
              "ticks": ""
             }
            },
            "type": "scatterternary"
           }
          ],
          "surface": [
           {
            "colorbar": {
             "outlinewidth": 0,
             "ticks": ""
            },
            "colorscale": [
             [
              0,
              "#0d0887"
             ],
             [
              0.1111111111111111,
              "#46039f"
             ],
             [
              0.2222222222222222,
              "#7201a8"
             ],
             [
              0.3333333333333333,
              "#9c179e"
             ],
             [
              0.4444444444444444,
              "#bd3786"
             ],
             [
              0.5555555555555556,
              "#d8576b"
             ],
             [
              0.6666666666666666,
              "#ed7953"
             ],
             [
              0.7777777777777778,
              "#fb9f3a"
             ],
             [
              0.8888888888888888,
              "#fdca26"
             ],
             [
              1,
              "#f0f921"
             ]
            ],
            "type": "surface"
           }
          ],
          "table": [
           {
            "cells": {
             "fill": {
              "color": "#EBF0F8"
             },
             "line": {
              "color": "white"
             }
            },
            "header": {
             "fill": {
              "color": "#C8D4E3"
             },
             "line": {
              "color": "white"
             }
            },
            "type": "table"
           }
          ]
         },
         "layout": {
          "annotationdefaults": {
           "arrowcolor": "#2a3f5f",
           "arrowhead": 0,
           "arrowwidth": 1
          },
          "autotypenumbers": "strict",
          "coloraxis": {
           "colorbar": {
            "outlinewidth": 0,
            "ticks": ""
           }
          },
          "colorscale": {
           "diverging": [
            [
             0,
             "#8e0152"
            ],
            [
             0.1,
             "#c51b7d"
            ],
            [
             0.2,
             "#de77ae"
            ],
            [
             0.3,
             "#f1b6da"
            ],
            [
             0.4,
             "#fde0ef"
            ],
            [
             0.5,
             "#f7f7f7"
            ],
            [
             0.6,
             "#e6f5d0"
            ],
            [
             0.7,
             "#b8e186"
            ],
            [
             0.8,
             "#7fbc41"
            ],
            [
             0.9,
             "#4d9221"
            ],
            [
             1,
             "#276419"
            ]
           ],
           "sequential": [
            [
             0,
             "#0d0887"
            ],
            [
             0.1111111111111111,
             "#46039f"
            ],
            [
             0.2222222222222222,
             "#7201a8"
            ],
            [
             0.3333333333333333,
             "#9c179e"
            ],
            [
             0.4444444444444444,
             "#bd3786"
            ],
            [
             0.5555555555555556,
             "#d8576b"
            ],
            [
             0.6666666666666666,
             "#ed7953"
            ],
            [
             0.7777777777777778,
             "#fb9f3a"
            ],
            [
             0.8888888888888888,
             "#fdca26"
            ],
            [
             1,
             "#f0f921"
            ]
           ],
           "sequentialminus": [
            [
             0,
             "#0d0887"
            ],
            [
             0.1111111111111111,
             "#46039f"
            ],
            [
             0.2222222222222222,
             "#7201a8"
            ],
            [
             0.3333333333333333,
             "#9c179e"
            ],
            [
             0.4444444444444444,
             "#bd3786"
            ],
            [
             0.5555555555555556,
             "#d8576b"
            ],
            [
             0.6666666666666666,
             "#ed7953"
            ],
            [
             0.7777777777777778,
             "#fb9f3a"
            ],
            [
             0.8888888888888888,
             "#fdca26"
            ],
            [
             1,
             "#f0f921"
            ]
           ]
          },
          "colorway": [
           "#636efa",
           "#EF553B",
           "#00cc96",
           "#ab63fa",
           "#FFA15A",
           "#19d3f3",
           "#FF6692",
           "#B6E880",
           "#FF97FF",
           "#FECB52"
          ],
          "font": {
           "color": "#2a3f5f"
          },
          "geo": {
           "bgcolor": "white",
           "lakecolor": "white",
           "landcolor": "#E5ECF6",
           "showlakes": true,
           "showland": true,
           "subunitcolor": "white"
          },
          "hoverlabel": {
           "align": "left"
          },
          "hovermode": "closest",
          "mapbox": {
           "style": "light"
          },
          "paper_bgcolor": "white",
          "plot_bgcolor": "#E5ECF6",
          "polar": {
           "angularaxis": {
            "gridcolor": "white",
            "linecolor": "white",
            "ticks": ""
           },
           "bgcolor": "#E5ECF6",
           "radialaxis": {
            "gridcolor": "white",
            "linecolor": "white",
            "ticks": ""
           }
          },
          "scene": {
           "xaxis": {
            "backgroundcolor": "#E5ECF6",
            "gridcolor": "white",
            "gridwidth": 2,
            "linecolor": "white",
            "showbackground": true,
            "ticks": "",
            "zerolinecolor": "white"
           },
           "yaxis": {
            "backgroundcolor": "#E5ECF6",
            "gridcolor": "white",
            "gridwidth": 2,
            "linecolor": "white",
            "showbackground": true,
            "ticks": "",
            "zerolinecolor": "white"
           },
           "zaxis": {
            "backgroundcolor": "#E5ECF6",
            "gridcolor": "white",
            "gridwidth": 2,
            "linecolor": "white",
            "showbackground": true,
            "ticks": "",
            "zerolinecolor": "white"
           }
          },
          "shapedefaults": {
           "line": {
            "color": "#2a3f5f"
           }
          },
          "ternary": {
           "aaxis": {
            "gridcolor": "white",
            "linecolor": "white",
            "ticks": ""
           },
           "baxis": {
            "gridcolor": "white",
            "linecolor": "white",
            "ticks": ""
           },
           "bgcolor": "#E5ECF6",
           "caxis": {
            "gridcolor": "white",
            "linecolor": "white",
            "ticks": ""
           }
          },
          "title": {
           "x": 0.05
          },
          "xaxis": {
           "automargin": true,
           "gridcolor": "white",
           "linecolor": "white",
           "ticks": "",
           "title": {
            "standoff": 15
           },
           "zerolinecolor": "white",
           "zerolinewidth": 2
          },
          "yaxis": {
           "automargin": true,
           "gridcolor": "white",
           "linecolor": "white",
           "ticks": "",
           "title": {
            "standoff": 15
           },
           "zerolinecolor": "white",
           "zerolinewidth": 2
          }
         }
        },
        "title": {
         "font": {
          "size": 18
         },
         "text": "Top 10 Locations for Parking Violations"
        },
        "xaxis": {
         "anchor": "y",
         "domain": [
          0,
          1
         ],
         "tickfont": {
          "size": 12
         },
         "title": {
          "text": "Number of Violations"
         }
        },
        "yaxis": {
         "anchor": "x",
         "domain": [
          0,
          1
         ],
         "tickfont": {
          "size": 12
         },
         "title": {
          "text": "Location"
         }
        }
       }
      }
     },
     "metadata": {},
     "output_type": "display_data"
    }
   ],
   "source": [
    "import plotly.express as px\n",
    "import pandas as pd\n",
    "\n",
    "# Sample DataFrame (Replace this with `location_counts` DataFrame)\n",
    "data = {\n",
    "    'LOCATION': location_counts['LOCATION'].head(10),\n",
    "    'TICKET_NUMBER': location_counts['TICKET_NUMBER'].head(10)\n",
    "}\n",
    "location_df = pd.DataFrame(data)\n",
    "\n",
    "# Create an interactive horizontal bar chart\n",
    "fig = px.bar(\n",
    "    location_df,\n",
    "    x='TICKET_NUMBER',\n",
    "    y='LOCATION',\n",
    "    orientation='h',\n",
    "    title='Top 10 Locations for Parking Violations',\n",
    "    labels={'TICKET_NUMBER': 'Number of Violations', 'LOCATION': 'Location'},\n",
    "    text='TICKET_NUMBER',  # Display counts on bars\n",
    "    color='TICKET_NUMBER',  # Dynamic color for emphasis\n",
    "    color_continuous_scale=['red', 'skyblue', 'green']  # Custom color palette\n",
    ")\n",
    "\n",
    "# Update layout for readability\n",
    "fig.update_layout(\n",
    "    title_font_size=18,\n",
    "    xaxis_title='Number of Violations',\n",
    "    yaxis_title='Location',\n",
    "    xaxis=dict(tickfont=dict(size=12)),\n",
    "    yaxis=dict(tickfont=dict(size=12)),\n",
    "    showlegend=False\n",
    ")\n",
    "\n",
    "# Show the plot\n",
    "fig.show()\n"
   ]
  },
  {
   "cell_type": "code",
   "execution_count": 55,
   "metadata": {},
   "outputs": [],
   "source": [
    "# Group by day of week and count the number of violations\n",
    "daily_violations = Clean_Parking_Violation.groupby('ISSUE_DAY_OF_WEEK')['TICKET_NUMBER'].count().reset_index()\n"
   ]
  },
  {
   "cell_type": "markdown",
   "metadata": {},
   "source": [
    "### Daily Parking Violations: Insights from the Interactive Line Chart\n",
    "\n",
    "#### **Overview of the Chart**\n",
    "This line chart showcases the daily parking violations reported across the week, with key points highlighted:\n",
    "\n",
    "1. **Trend Analysis**:\n",
    "   - The chart visualizes parking violations for each day of the week, making it easy to observe patterns or anomalies.\n",
    "   - A sharp dip or rise in violations provides insights into parking trends and enforcement activity.\n",
    "\n",
    "2. **Highlighted Extremes**:\n",
    "   - The **day with the highest violations** is marked with a green dot, drawing attention to peak activity.\n",
    "   - The **day with the lowest violations** is marked with a red dot, emphasizing the least active day for violations.\n",
    "\n",
    "3. **Custom Visualization**:\n",
    "   - Markers for each day improve visibility and help identify exact violation counts.\n",
    "   - The line connecting the markers provides a smooth overview of weekly trends.\n",
    "\n",
    "---\n",
    "\n",
    "#### **Key Insights**\n",
    "1. **Lowest Violations on Sunday**:\n",
    "   - Sunday has the least parking violations, as highlighted by the red marker. This could be due to reduced enforcement, less traffic, or relaxed parking regulations on weekends.\n",
    "\n",
    "2. **Highest Violations on Thursday**:\n",
    "   - Thursday records the highest parking violations, marked with a green dot. This could indicate stricter enforcement or higher traffic and parking demand as the workweek progresses.\n",
    "\n",
    "3. **Midweek Trends**:\n",
    "   - Violations gradually increase from Monday to Thursday, reflecting increasing parking demand during the week.\n",
    "   - A noticeable drop occurs on Saturday and Sunday, indicating reduced activity.\n",
    "\n",
    "---\n",
    "\n",
    "#### **Recommendations for Parking Management**\n",
    "1. **Adjust Enforcement Resources**:\n",
    "   - Allocate more resources to days with high violations, such as Thursdays, to ensure compliance and manage parking effectively.\n",
    "   - Scale down enforcement on low-violation days like Sunday to optimize resource usage.\n",
    "\n",
    "2. **Policy Adjustments**:\n",
    "   - Investigate specific causes behind high violations on Thursdays and address them with targeted policy measures, such as improving signage or parking availability.\n",
    "\n",
    "3. **Community Engagement**:\n",
    "   - Educate the public about parking rules and enforcement schedules, especially on high-violation days, to encourage compliance and reduce penalties.\n",
    "\n",
    "This chart provides actionable insights into parking trends, helping planners optimize enforcement strategies and improve urban mobility."
   ]
  },
  {
   "cell_type": "code",
   "execution_count": 56,
   "metadata": {},
   "outputs": [
    {
     "data": {
      "application/vnd.plotly.v1+json": {
       "config": {
        "plotlyServerURL": "https://plot.ly"
       },
       "data": [
        {
         "hovertemplate": "Day of Week=%{x}<br>Number of Violations=%{y}<extra></extra>",
         "legendgroup": "",
         "line": {
          "color": "skyblue",
          "dash": "solid",
          "width": 3
         },
         "marker": {
          "color": [
           "skyblue",
           "skyblue",
           "skyblue",
           "red",
           "green",
           "skyblue",
           "skyblue"
          ],
          "size": 10,
          "symbol": "circle"
         },
         "mode": "lines+markers",
         "name": "",
         "orientation": "v",
         "showlegend": false,
         "type": "scatter",
         "x": [
          "Friday",
          "Monday",
          "Saturday",
          "Sunday",
          "Thursday",
          "Tuesday",
          "Wednesday"
         ],
         "xaxis": "x",
         "y": [
          16742,
          14619,
          8260,
          2418,
          19900,
          17152,
          19402
         ],
         "yaxis": "y"
        }
       ],
       "layout": {
        "legend": {
         "tracegroupgap": 0
        },
        "template": {
         "data": {
          "bar": [
           {
            "error_x": {
             "color": "#2a3f5f"
            },
            "error_y": {
             "color": "#2a3f5f"
            },
            "marker": {
             "line": {
              "color": "#E5ECF6",
              "width": 0.5
             },
             "pattern": {
              "fillmode": "overlay",
              "size": 10,
              "solidity": 0.2
             }
            },
            "type": "bar"
           }
          ],
          "barpolar": [
           {
            "marker": {
             "line": {
              "color": "#E5ECF6",
              "width": 0.5
             },
             "pattern": {
              "fillmode": "overlay",
              "size": 10,
              "solidity": 0.2
             }
            },
            "type": "barpolar"
           }
          ],
          "carpet": [
           {
            "aaxis": {
             "endlinecolor": "#2a3f5f",
             "gridcolor": "white",
             "linecolor": "white",
             "minorgridcolor": "white",
             "startlinecolor": "#2a3f5f"
            },
            "baxis": {
             "endlinecolor": "#2a3f5f",
             "gridcolor": "white",
             "linecolor": "white",
             "minorgridcolor": "white",
             "startlinecolor": "#2a3f5f"
            },
            "type": "carpet"
           }
          ],
          "choropleth": [
           {
            "colorbar": {
             "outlinewidth": 0,
             "ticks": ""
            },
            "type": "choropleth"
           }
          ],
          "contour": [
           {
            "colorbar": {
             "outlinewidth": 0,
             "ticks": ""
            },
            "colorscale": [
             [
              0,
              "#0d0887"
             ],
             [
              0.1111111111111111,
              "#46039f"
             ],
             [
              0.2222222222222222,
              "#7201a8"
             ],
             [
              0.3333333333333333,
              "#9c179e"
             ],
             [
              0.4444444444444444,
              "#bd3786"
             ],
             [
              0.5555555555555556,
              "#d8576b"
             ],
             [
              0.6666666666666666,
              "#ed7953"
             ],
             [
              0.7777777777777778,
              "#fb9f3a"
             ],
             [
              0.8888888888888888,
              "#fdca26"
             ],
             [
              1,
              "#f0f921"
             ]
            ],
            "type": "contour"
           }
          ],
          "contourcarpet": [
           {
            "colorbar": {
             "outlinewidth": 0,
             "ticks": ""
            },
            "type": "contourcarpet"
           }
          ],
          "heatmap": [
           {
            "colorbar": {
             "outlinewidth": 0,
             "ticks": ""
            },
            "colorscale": [
             [
              0,
              "#0d0887"
             ],
             [
              0.1111111111111111,
              "#46039f"
             ],
             [
              0.2222222222222222,
              "#7201a8"
             ],
             [
              0.3333333333333333,
              "#9c179e"
             ],
             [
              0.4444444444444444,
              "#bd3786"
             ],
             [
              0.5555555555555556,
              "#d8576b"
             ],
             [
              0.6666666666666666,
              "#ed7953"
             ],
             [
              0.7777777777777778,
              "#fb9f3a"
             ],
             [
              0.8888888888888888,
              "#fdca26"
             ],
             [
              1,
              "#f0f921"
             ]
            ],
            "type": "heatmap"
           }
          ],
          "heatmapgl": [
           {
            "colorbar": {
             "outlinewidth": 0,
             "ticks": ""
            },
            "colorscale": [
             [
              0,
              "#0d0887"
             ],
             [
              0.1111111111111111,
              "#46039f"
             ],
             [
              0.2222222222222222,
              "#7201a8"
             ],
             [
              0.3333333333333333,
              "#9c179e"
             ],
             [
              0.4444444444444444,
              "#bd3786"
             ],
             [
              0.5555555555555556,
              "#d8576b"
             ],
             [
              0.6666666666666666,
              "#ed7953"
             ],
             [
              0.7777777777777778,
              "#fb9f3a"
             ],
             [
              0.8888888888888888,
              "#fdca26"
             ],
             [
              1,
              "#f0f921"
             ]
            ],
            "type": "heatmapgl"
           }
          ],
          "histogram": [
           {
            "marker": {
             "pattern": {
              "fillmode": "overlay",
              "size": 10,
              "solidity": 0.2
             }
            },
            "type": "histogram"
           }
          ],
          "histogram2d": [
           {
            "colorbar": {
             "outlinewidth": 0,
             "ticks": ""
            },
            "colorscale": [
             [
              0,
              "#0d0887"
             ],
             [
              0.1111111111111111,
              "#46039f"
             ],
             [
              0.2222222222222222,
              "#7201a8"
             ],
             [
              0.3333333333333333,
              "#9c179e"
             ],
             [
              0.4444444444444444,
              "#bd3786"
             ],
             [
              0.5555555555555556,
              "#d8576b"
             ],
             [
              0.6666666666666666,
              "#ed7953"
             ],
             [
              0.7777777777777778,
              "#fb9f3a"
             ],
             [
              0.8888888888888888,
              "#fdca26"
             ],
             [
              1,
              "#f0f921"
             ]
            ],
            "type": "histogram2d"
           }
          ],
          "histogram2dcontour": [
           {
            "colorbar": {
             "outlinewidth": 0,
             "ticks": ""
            },
            "colorscale": [
             [
              0,
              "#0d0887"
             ],
             [
              0.1111111111111111,
              "#46039f"
             ],
             [
              0.2222222222222222,
              "#7201a8"
             ],
             [
              0.3333333333333333,
              "#9c179e"
             ],
             [
              0.4444444444444444,
              "#bd3786"
             ],
             [
              0.5555555555555556,
              "#d8576b"
             ],
             [
              0.6666666666666666,
              "#ed7953"
             ],
             [
              0.7777777777777778,
              "#fb9f3a"
             ],
             [
              0.8888888888888888,
              "#fdca26"
             ],
             [
              1,
              "#f0f921"
             ]
            ],
            "type": "histogram2dcontour"
           }
          ],
          "mesh3d": [
           {
            "colorbar": {
             "outlinewidth": 0,
             "ticks": ""
            },
            "type": "mesh3d"
           }
          ],
          "parcoords": [
           {
            "line": {
             "colorbar": {
              "outlinewidth": 0,
              "ticks": ""
             }
            },
            "type": "parcoords"
           }
          ],
          "pie": [
           {
            "automargin": true,
            "type": "pie"
           }
          ],
          "scatter": [
           {
            "fillpattern": {
             "fillmode": "overlay",
             "size": 10,
             "solidity": 0.2
            },
            "type": "scatter"
           }
          ],
          "scatter3d": [
           {
            "line": {
             "colorbar": {
              "outlinewidth": 0,
              "ticks": ""
             }
            },
            "marker": {
             "colorbar": {
              "outlinewidth": 0,
              "ticks": ""
             }
            },
            "type": "scatter3d"
           }
          ],
          "scattercarpet": [
           {
            "marker": {
             "colorbar": {
              "outlinewidth": 0,
              "ticks": ""
             }
            },
            "type": "scattercarpet"
           }
          ],
          "scattergeo": [
           {
            "marker": {
             "colorbar": {
              "outlinewidth": 0,
              "ticks": ""
             }
            },
            "type": "scattergeo"
           }
          ],
          "scattergl": [
           {
            "marker": {
             "colorbar": {
              "outlinewidth": 0,
              "ticks": ""
             }
            },
            "type": "scattergl"
           }
          ],
          "scattermapbox": [
           {
            "marker": {
             "colorbar": {
              "outlinewidth": 0,
              "ticks": ""
             }
            },
            "type": "scattermapbox"
           }
          ],
          "scatterpolar": [
           {
            "marker": {
             "colorbar": {
              "outlinewidth": 0,
              "ticks": ""
             }
            },
            "type": "scatterpolar"
           }
          ],
          "scatterpolargl": [
           {
            "marker": {
             "colorbar": {
              "outlinewidth": 0,
              "ticks": ""
             }
            },
            "type": "scatterpolargl"
           }
          ],
          "scatterternary": [
           {
            "marker": {
             "colorbar": {
              "outlinewidth": 0,
              "ticks": ""
             }
            },
            "type": "scatterternary"
           }
          ],
          "surface": [
           {
            "colorbar": {
             "outlinewidth": 0,
             "ticks": ""
            },
            "colorscale": [
             [
              0,
              "#0d0887"
             ],
             [
              0.1111111111111111,
              "#46039f"
             ],
             [
              0.2222222222222222,
              "#7201a8"
             ],
             [
              0.3333333333333333,
              "#9c179e"
             ],
             [
              0.4444444444444444,
              "#bd3786"
             ],
             [
              0.5555555555555556,
              "#d8576b"
             ],
             [
              0.6666666666666666,
              "#ed7953"
             ],
             [
              0.7777777777777778,
              "#fb9f3a"
             ],
             [
              0.8888888888888888,
              "#fdca26"
             ],
             [
              1,
              "#f0f921"
             ]
            ],
            "type": "surface"
           }
          ],
          "table": [
           {
            "cells": {
             "fill": {
              "color": "#EBF0F8"
             },
             "line": {
              "color": "white"
             }
            },
            "header": {
             "fill": {
              "color": "#C8D4E3"
             },
             "line": {
              "color": "white"
             }
            },
            "type": "table"
           }
          ]
         },
         "layout": {
          "annotationdefaults": {
           "arrowcolor": "#2a3f5f",
           "arrowhead": 0,
           "arrowwidth": 1
          },
          "autotypenumbers": "strict",
          "coloraxis": {
           "colorbar": {
            "outlinewidth": 0,
            "ticks": ""
           }
          },
          "colorscale": {
           "diverging": [
            [
             0,
             "#8e0152"
            ],
            [
             0.1,
             "#c51b7d"
            ],
            [
             0.2,
             "#de77ae"
            ],
            [
             0.3,
             "#f1b6da"
            ],
            [
             0.4,
             "#fde0ef"
            ],
            [
             0.5,
             "#f7f7f7"
            ],
            [
             0.6,
             "#e6f5d0"
            ],
            [
             0.7,
             "#b8e186"
            ],
            [
             0.8,
             "#7fbc41"
            ],
            [
             0.9,
             "#4d9221"
            ],
            [
             1,
             "#276419"
            ]
           ],
           "sequential": [
            [
             0,
             "#0d0887"
            ],
            [
             0.1111111111111111,
             "#46039f"
            ],
            [
             0.2222222222222222,
             "#7201a8"
            ],
            [
             0.3333333333333333,
             "#9c179e"
            ],
            [
             0.4444444444444444,
             "#bd3786"
            ],
            [
             0.5555555555555556,
             "#d8576b"
            ],
            [
             0.6666666666666666,
             "#ed7953"
            ],
            [
             0.7777777777777778,
             "#fb9f3a"
            ],
            [
             0.8888888888888888,
             "#fdca26"
            ],
            [
             1,
             "#f0f921"
            ]
           ],
           "sequentialminus": [
            [
             0,
             "#0d0887"
            ],
            [
             0.1111111111111111,
             "#46039f"
            ],
            [
             0.2222222222222222,
             "#7201a8"
            ],
            [
             0.3333333333333333,
             "#9c179e"
            ],
            [
             0.4444444444444444,
             "#bd3786"
            ],
            [
             0.5555555555555556,
             "#d8576b"
            ],
            [
             0.6666666666666666,
             "#ed7953"
            ],
            [
             0.7777777777777778,
             "#fb9f3a"
            ],
            [
             0.8888888888888888,
             "#fdca26"
            ],
            [
             1,
             "#f0f921"
            ]
           ]
          },
          "colorway": [
           "#636efa",
           "#EF553B",
           "#00cc96",
           "#ab63fa",
           "#FFA15A",
           "#19d3f3",
           "#FF6692",
           "#B6E880",
           "#FF97FF",
           "#FECB52"
          ],
          "font": {
           "color": "#2a3f5f"
          },
          "geo": {
           "bgcolor": "white",
           "lakecolor": "white",
           "landcolor": "#E5ECF6",
           "showlakes": true,
           "showland": true,
           "subunitcolor": "white"
          },
          "hoverlabel": {
           "align": "left"
          },
          "hovermode": "closest",
          "mapbox": {
           "style": "light"
          },
          "paper_bgcolor": "white",
          "plot_bgcolor": "#E5ECF6",
          "polar": {
           "angularaxis": {
            "gridcolor": "white",
            "linecolor": "white",
            "ticks": ""
           },
           "bgcolor": "#E5ECF6",
           "radialaxis": {
            "gridcolor": "white",
            "linecolor": "white",
            "ticks": ""
           }
          },
          "scene": {
           "xaxis": {
            "backgroundcolor": "#E5ECF6",
            "gridcolor": "white",
            "gridwidth": 2,
            "linecolor": "white",
            "showbackground": true,
            "ticks": "",
            "zerolinecolor": "white"
           },
           "yaxis": {
            "backgroundcolor": "#E5ECF6",
            "gridcolor": "white",
            "gridwidth": 2,
            "linecolor": "white",
            "showbackground": true,
            "ticks": "",
            "zerolinecolor": "white"
           },
           "zaxis": {
            "backgroundcolor": "#E5ECF6",
            "gridcolor": "white",
            "gridwidth": 2,
            "linecolor": "white",
            "showbackground": true,
            "ticks": "",
            "zerolinecolor": "white"
           }
          },
          "shapedefaults": {
           "line": {
            "color": "#2a3f5f"
           }
          },
          "ternary": {
           "aaxis": {
            "gridcolor": "white",
            "linecolor": "white",
            "ticks": ""
           },
           "baxis": {
            "gridcolor": "white",
            "linecolor": "white",
            "ticks": ""
           },
           "bgcolor": "#E5ECF6",
           "caxis": {
            "gridcolor": "white",
            "linecolor": "white",
            "ticks": ""
           }
          },
          "title": {
           "x": 0.05
          },
          "xaxis": {
           "automargin": true,
           "gridcolor": "white",
           "linecolor": "white",
           "ticks": "",
           "title": {
            "standoff": 15
           },
           "zerolinecolor": "white",
           "zerolinewidth": 2
          },
          "yaxis": {
           "automargin": true,
           "gridcolor": "white",
           "linecolor": "white",
           "ticks": "",
           "title": {
            "standoff": 15
           },
           "zerolinecolor": "white",
           "zerolinewidth": 2
          }
         }
        },
        "title": {
         "font": {
          "size": 18
         },
         "text": "Daily Parking Violations"
        },
        "xaxis": {
         "anchor": "y",
         "domain": [
          0,
          1
         ],
         "tickfont": {
          "size": 12
         },
         "tickmode": "linear",
         "title": {
          "text": "Day of Week"
         }
        },
        "yaxis": {
         "anchor": "x",
         "domain": [
          0,
          1
         ],
         "title": {
          "font": {
           "size": 14
          },
          "text": "Number of Violations"
         }
        }
       }
      }
     },
     "metadata": {},
     "output_type": "display_data"
    }
   ],
   "source": [
    "import plotly.express as px\n",
    "\n",
    "# Add a color column to identify the highest and lowest values\n",
    "daily_violations['color'] = 'skyblue'  # Default color\n",
    "daily_violations.loc[daily_violations['TICKET_NUMBER'].idxmax(), 'color'] = 'green'  # Highlight highest\n",
    "daily_violations.loc[daily_violations['TICKET_NUMBER'].idxmin(), 'color'] = 'red'    # Highlight lowest\n",
    "\n",
    "# Create an interactive line chart\n",
    "fig = px.line(\n",
    "    daily_violations,\n",
    "    x='ISSUE_DAY_OF_WEEK',\n",
    "    y='TICKET_NUMBER',\n",
    "    title='Daily Parking Violations',\n",
    "    labels={'ISSUE_DAY_OF_WEEK': 'Day of Week', 'TICKET_NUMBER': 'Number of Violations'},\n",
    "    markers=True\n",
    ")\n",
    "\n",
    "# Apply custom colors to markers\n",
    "fig.update_traces(\n",
    "    marker=dict(\n",
    "        color=daily_violations['color'],\n",
    "        size=10  # Larger markers for better visibility\n",
    "    ),\n",
    "    line=dict(color='skyblue', width=3)  # Line remains neutral\n",
    ")\n",
    "\n",
    "# Customize layout\n",
    "fig.update_layout(\n",
    "    xaxis=dict(tickmode='linear', tickfont=dict(size=12)),\n",
    "    yaxis=dict(title=\"Number of Violations\", title_font_size=14),\n",
    "    title_font_size=18\n",
    ")\n",
    "\n",
    "fig.show()\n"
   ]
  },
  {
   "cell_type": "markdown",
   "metadata": {},
   "source": [
    "### Most Common Types of Parking Violations: Insights from the Bar Chart\n",
    "\n",
    "#### **Overview of the Chart**\n",
    "This bar chart visualizes the top 5 most common parking violation types based on the frequency of occurrences. Each bar represents a specific violation type, and its height corresponds to the number of violations recorded.\n",
    "\n",
    "---\n",
    "\n",
    "#### **Key Observations**\n",
    "1. **Dominance of Specific Violation Types**:\n",
    "   - One or two violation types significantly outpace the rest in terms of frequency, as indicated by their taller bars. This highlights recurring issues that require targeted intervention.\n",
    "\n",
    "2. **Incremental Differences**:\n",
    "   - The remaining violation types exhibit a more gradual decline in frequency, suggesting a broader distribution of less common infractions.\n",
    "\n",
    "3. **Clear Annotation**:\n",
    "   - The exact number of violations is annotated above each bar, offering precise insights into the magnitude of each type.\n",
    "\n"
   ]
  },
  {
   "cell_type": "code",
   "execution_count": 57,
   "metadata": {},
   "outputs": [
    {
     "data": {
      "image/png": "[encoded data removed]",
      "text/plain": [
       "<Figure size 1400x1000 with 1 Axes>"
      ]
     },
     "metadata": {},
     "output_type": "display_data"
    }
   ],
   "source": [
    "import pandas as pd\n",
    "import matplotlib.pyplot as plt\n",
    "\n",
    "# Analyze the most common types of violations\n",
    "violation_counts = Clean_Parking_Violation['VIOLATION_PROC_DESC'].value_counts()\n",
    "\n",
    "# Select top 5 most common violations for visualization\n",
    "top_violations = violation_counts.head(5)\n",
    "\n",
    "# Create a bar chart to visualize the most common violations\n",
    "plt.figure(figsize=(14, 10))\n",
    "bars = plt.bar(top_violations.index, top_violations.values, color='skyblue', edgecolor='black', width=0.7)\n",
    "\n",
    "# Add counts above each bar with smaller text\n",
    "for bar in bars:\n",
    "    yval = bar.get_height()\n",
    "    plt.text(bar.get_x() + bar.get_width() / 2, yval + 300, int(yval), ha='center', fontsize=10)\n",
    "\n",
    "# Title and labels with smaller font sizes\n",
    "plt.title('Most Common Types of Parking Violations', fontsize=14)\n",
    "plt.xlabel('Violation Type', fontsize=12)\n",
    "plt.ylabel('Number of Violations', fontsize=12)\n",
    "\n",
    "# Improve x-axis readability with smaller ticks\n",
    "plt.xticks(rotation=30, ha='right', fontsize=10)\n",
    "\n",
    "# Increase space between bars for better emphasis\n",
    "plt.ylim(0, top_violations.max() + 2000)\n",
    "\n",
    "# Tight layout for better spacing\n",
    "plt.tight_layout()\n",
    "\n",
    "# Show the plot\n",
    "plt.show()\n"
   ]
  },
  {
   "cell_type": "markdown",
   "metadata": {},
   "source": [
    "### Distribution of Parking Violations: Insights from the Pie Chart\n",
    "\n",
    "The pie chart illustrates the proportional distribution of the five most common parking violations. Each segment represents a specific violation type, with its size corresponding to the frequency of violations."
   ]
  },
  {
   "cell_type": "code",
   "execution_count": 58,
   "metadata": {},
   "outputs": [
    {
     "data": {
      "application/vnd.plotly.v1+json": {
       "config": {
        "plotlyServerURL": "https://plot.ly"
       },
       "data": [
        {
         "hoverinfo": "label+percent",
         "labels": [
          "FAIL TO DISPLAY A MULTISPACE METER RECEIPT",
          "DISOBEYING OFFICIAL SIGN",
          "NO PARKING STREET CLEANING",
          "FAILURE TO DISPLAY CURRENT TAGS",
          "NO PARKING ANYTIME"
         ],
         "marker": {
          "colors": [
           "green",
           "skyblue",
           "skyblue",
           "skyblue",
           "red"
          ]
         },
         "textinfo": "value",
         "type": "pie",
         "values": [
          12465,
          8841,
          8784,
          8278,
          5809
         ]
        }
       ],
       "layout": {
        "template": {
         "data": {
          "bar": [
           {
            "error_x": {
             "color": "#2a3f5f"
            },
            "error_y": {
             "color": "#2a3f5f"
            },
            "marker": {
             "line": {
              "color": "#E5ECF6",
              "width": 0.5
             },
             "pattern": {
              "fillmode": "overlay",
              "size": 10,
              "solidity": 0.2
             }
            },
            "type": "bar"
           }
          ],
          "barpolar": [
           {
            "marker": {
             "line": {
              "color": "#E5ECF6",
              "width": 0.5
             },
             "pattern": {
              "fillmode": "overlay",
              "size": 10,
              "solidity": 0.2
             }
            },
            "type": "barpolar"
           }
          ],
          "carpet": [
           {
            "aaxis": {
             "endlinecolor": "#2a3f5f",
             "gridcolor": "white",
             "linecolor": "white",
             "minorgridcolor": "white",
             "startlinecolor": "#2a3f5f"
            },
            "baxis": {
             "endlinecolor": "#2a3f5f",
             "gridcolor": "white",
             "linecolor": "white",
             "minorgridcolor": "white",
             "startlinecolor": "#2a3f5f"
            },
            "type": "carpet"
           }
          ],
          "choropleth": [
           {
            "colorbar": {
             "outlinewidth": 0,
             "ticks": ""
            },
            "type": "choropleth"
           }
          ],
          "contour": [
           {
            "colorbar": {
             "outlinewidth": 0,
             "ticks": ""
            },
            "colorscale": [
             [
              0,
              "#0d0887"
             ],
             [
              0.1111111111111111,
              "#46039f"
             ],
             [
              0.2222222222222222,
              "#7201a8"
             ],
             [
              0.3333333333333333,
              "#9c179e"
             ],
             [
              0.4444444444444444,
              "#bd3786"
             ],
             [
              0.5555555555555556,
              "#d8576b"
             ],
             [
              0.6666666666666666,
              "#ed7953"
             ],
             [
              0.7777777777777778,
              "#fb9f3a"
             ],
             [
              0.8888888888888888,
              "#fdca26"
             ],
             [
              1,
              "#f0f921"
             ]
            ],
            "type": "contour"
           }
          ],
          "contourcarpet": [
           {
            "colorbar": {
             "outlinewidth": 0,
             "ticks": ""
            },
            "type": "contourcarpet"
           }
          ],
          "heatmap": [
           {
            "colorbar": {
             "outlinewidth": 0,
             "ticks": ""
            },
            "colorscale": [
             [
              0,
              "#0d0887"
             ],
             [
              0.1111111111111111,
              "#46039f"
             ],
             [
              0.2222222222222222,
              "#7201a8"
             ],
             [
              0.3333333333333333,
              "#9c179e"
             ],
             [
              0.4444444444444444,
              "#bd3786"
             ],
             [
              0.5555555555555556,
              "#d8576b"
             ],
             [
              0.6666666666666666,
              "#ed7953"
             ],
             [
              0.7777777777777778,
              "#fb9f3a"
             ],
             [
              0.8888888888888888,
              "#fdca26"
             ],
             [
              1,
              "#f0f921"
             ]
            ],
            "type": "heatmap"
           }
          ],
          "heatmapgl": [
           {
            "colorbar": {
             "outlinewidth": 0,
             "ticks": ""
            },
            "colorscale": [
             [
              0,
              "#0d0887"
             ],
             [
              0.1111111111111111,
              "#46039f"
             ],
             [
              0.2222222222222222,
              "#7201a8"
             ],
             [
              0.3333333333333333,
              "#9c179e"
             ],
             [
              0.4444444444444444,
              "#bd3786"
             ],
             [
              0.5555555555555556,
              "#d8576b"
             ],
             [
              0.6666666666666666,
              "#ed7953"
             ],
             [
              0.7777777777777778,
              "#fb9f3a"
             ],
             [
              0.8888888888888888,
              "#fdca26"
             ],
             [
              1,
              "#f0f921"
             ]
            ],
            "type": "heatmapgl"
           }
          ],
          "histogram": [
           {
            "marker": {
             "pattern": {
              "fillmode": "overlay",
              "size": 10,
              "solidity": 0.2
             }
            },
            "type": "histogram"
           }
          ],
          "histogram2d": [
           {
            "colorbar": {
             "outlinewidth": 0,
             "ticks": ""
            },
            "colorscale": [
             [
              0,
              "#0d0887"
             ],
             [
              0.1111111111111111,
              "#46039f"
             ],
             [
              0.2222222222222222,
              "#7201a8"
             ],
             [
              0.3333333333333333,
              "#9c179e"
             ],
             [
              0.4444444444444444,
              "#bd3786"
             ],
             [
              0.5555555555555556,
              "#d8576b"
             ],
             [
              0.6666666666666666,
              "#ed7953"
             ],
             [
              0.7777777777777778,
              "#fb9f3a"
             ],
             [
              0.8888888888888888,
              "#fdca26"
             ],
             [
              1,
              "#f0f921"
             ]
            ],
            "type": "histogram2d"
           }
          ],
          "histogram2dcontour": [
           {
            "colorbar": {
             "outlinewidth": 0,
             "ticks": ""
            },
            "colorscale": [
             [
              0,
              "#0d0887"
             ],
             [
              0.1111111111111111,
              "#46039f"
             ],
             [
              0.2222222222222222,
              "#7201a8"
             ],
             [
              0.3333333333333333,
              "#9c179e"
             ],
             [
              0.4444444444444444,
              "#bd3786"
             ],
             [
              0.5555555555555556,
              "#d8576b"
             ],
             [
              0.6666666666666666,
              "#ed7953"
             ],
             [
              0.7777777777777778,
              "#fb9f3a"
             ],
             [
              0.8888888888888888,
              "#fdca26"
             ],
             [
              1,
              "#f0f921"
             ]
            ],
            "type": "histogram2dcontour"
           }
          ],
          "mesh3d": [
           {
            "colorbar": {
             "outlinewidth": 0,
             "ticks": ""
            },
            "type": "mesh3d"
           }
          ],
          "parcoords": [
           {
            "line": {
             "colorbar": {
              "outlinewidth": 0,
              "ticks": ""
             }
            },
            "type": "parcoords"
           }
          ],
          "pie": [
           {
            "automargin": true,
            "type": "pie"
           }
          ],
          "scatter": [
           {
            "fillpattern": {
             "fillmode": "overlay",
             "size": 10,
             "solidity": 0.2
            },
            "type": "scatter"
           }
          ],
          "scatter3d": [
           {
            "line": {
             "colorbar": {
              "outlinewidth": 0,
              "ticks": ""
             }
            },
            "marker": {
             "colorbar": {
              "outlinewidth": 0,
              "ticks": ""
             }
            },
            "type": "scatter3d"
           }
          ],
          "scattercarpet": [
           {
            "marker": {
             "colorbar": {
              "outlinewidth": 0,
              "ticks": ""
             }
            },
            "type": "scattercarpet"
           }
          ],
          "scattergeo": [
           {
            "marker": {
             "colorbar": {
              "outlinewidth": 0,
              "ticks": ""
             }
            },
            "type": "scattergeo"
           }
          ],
          "scattergl": [
           {
            "marker": {
             "colorbar": {
              "outlinewidth": 0,
              "ticks": ""
             }
            },
            "type": "scattergl"
           }
          ],
          "scattermapbox": [
           {
            "marker": {
             "colorbar": {
              "outlinewidth": 0,
              "ticks": ""
             }
            },
            "type": "scattermapbox"
           }
          ],
          "scatterpolar": [
           {
            "marker": {
             "colorbar": {
              "outlinewidth": 0,
              "ticks": ""
             }
            },
            "type": "scatterpolar"
           }
          ],
          "scatterpolargl": [
           {
            "marker": {
             "colorbar": {
              "outlinewidth": 0,
              "ticks": ""
             }
            },
            "type": "scatterpolargl"
           }
          ],
          "scatterternary": [
           {
            "marker": {
             "colorbar": {
              "outlinewidth": 0,
              "ticks": ""
             }
            },
            "type": "scatterternary"
           }
          ],
          "surface": [
           {
            "colorbar": {
             "outlinewidth": 0,
             "ticks": ""
            },
            "colorscale": [
             [
              0,
              "#0d0887"
             ],
             [
              0.1111111111111111,
              "#46039f"
             ],
             [
              0.2222222222222222,
              "#7201a8"
             ],
             [
              0.3333333333333333,
              "#9c179e"
             ],
             [
              0.4444444444444444,
              "#bd3786"
             ],
             [
              0.5555555555555556,
              "#d8576b"
             ],
             [
              0.6666666666666666,
              "#ed7953"
             ],
             [
              0.7777777777777778,
              "#fb9f3a"
             ],
             [
              0.8888888888888888,
              "#fdca26"
             ],
             [
              1,
              "#f0f921"
             ]
            ],
            "type": "surface"
           }
          ],
          "table": [
           {
            "cells": {
             "fill": {
              "color": "#EBF0F8"
             },
             "line": {
              "color": "white"
             }
            },
            "header": {
             "fill": {
              "color": "#C8D4E3"
             },
             "line": {
              "color": "white"
             }
            },
            "type": "table"
           }
          ]
         },
         "layout": {
          "annotationdefaults": {
           "arrowcolor": "#2a3f5f",
           "arrowhead": 0,
           "arrowwidth": 1
          },
          "autotypenumbers": "strict",
          "coloraxis": {
           "colorbar": {
            "outlinewidth": 0,
            "ticks": ""
           }
          },
          "colorscale": {
           "diverging": [
            [
             0,
             "#8e0152"
            ],
            [
             0.1,
             "#c51b7d"
            ],
            [
             0.2,
             "#de77ae"
            ],
            [
             0.3,
             "#f1b6da"
            ],
            [
             0.4,
             "#fde0ef"
            ],
            [
             0.5,
             "#f7f7f7"
            ],
            [
             0.6,
             "#e6f5d0"
            ],
            [
             0.7,
             "#b8e186"
            ],
            [
             0.8,
             "#7fbc41"
            ],
            [
             0.9,
             "#4d9221"
            ],
            [
             1,
             "#276419"
            ]
           ],
           "sequential": [
            [
             0,
             "#0d0887"
            ],
            [
             0.1111111111111111,
             "#46039f"
            ],
            [
             0.2222222222222222,
             "#7201a8"
            ],
            [
             0.3333333333333333,
             "#9c179e"
            ],
            [
             0.4444444444444444,
             "#bd3786"
            ],
            [
             0.5555555555555556,
             "#d8576b"
            ],
            [
             0.6666666666666666,
             "#ed7953"
            ],
            [
             0.7777777777777778,
             "#fb9f3a"
            ],
            [
             0.8888888888888888,
             "#fdca26"
            ],
            [
             1,
             "#f0f921"
            ]
           ],
           "sequentialminus": [
            [
             0,
             "#0d0887"
            ],
            [
             0.1111111111111111,
             "#46039f"
            ],
            [
             0.2222222222222222,
             "#7201a8"
            ],
            [
             0.3333333333333333,
             "#9c179e"
            ],
            [
             0.4444444444444444,
             "#bd3786"
            ],
            [
             0.5555555555555556,
             "#d8576b"
            ],
            [
             0.6666666666666666,
             "#ed7953"
            ],
            [
             0.7777777777777778,
             "#fb9f3a"
            ],
            [
             0.8888888888888888,
             "#fdca26"
            ],
            [
             1,
             "#f0f921"
            ]
           ]
          },
          "colorway": [
           "#636efa",
           "#EF553B",
           "#00cc96",
           "#ab63fa",
           "#FFA15A",
           "#19d3f3",
           "#FF6692",
           "#B6E880",
           "#FF97FF",
           "#FECB52"
          ],
          "font": {
           "color": "#2a3f5f"
          },
          "geo": {
           "bgcolor": "white",
           "lakecolor": "white",
           "landcolor": "#E5ECF6",
           "showlakes": true,
           "showland": true,
           "subunitcolor": "white"
          },
          "hoverlabel": {
           "align": "left"
          },
          "hovermode": "closest",
          "mapbox": {
           "style": "light"
          },
          "paper_bgcolor": "white",
          "plot_bgcolor": "#E5ECF6",
          "polar": {
           "angularaxis": {
            "gridcolor": "white",
            "linecolor": "white",
            "ticks": ""
           },
           "bgcolor": "#E5ECF6",
           "radialaxis": {
            "gridcolor": "white",
            "linecolor": "white",
            "ticks": ""
           }
          },
          "scene": {
           "xaxis": {
            "backgroundcolor": "#E5ECF6",
            "gridcolor": "white",
            "gridwidth": 2,
            "linecolor": "white",
            "showbackground": true,
            "ticks": "",
            "zerolinecolor": "white"
           },
           "yaxis": {
            "backgroundcolor": "#E5ECF6",
            "gridcolor": "white",
            "gridwidth": 2,
            "linecolor": "white",
            "showbackground": true,
            "ticks": "",
            "zerolinecolor": "white"
           },
           "zaxis": {
            "backgroundcolor": "#E5ECF6",
            "gridcolor": "white",
            "gridwidth": 2,
            "linecolor": "white",
            "showbackground": true,
            "ticks": "",
            "zerolinecolor": "white"
           }
          },
          "shapedefaults": {
           "line": {
            "color": "#2a3f5f"
           }
          },
          "ternary": {
           "aaxis": {
            "gridcolor": "white",
            "linecolor": "white",
            "ticks": ""
           },
           "baxis": {
            "gridcolor": "white",
            "linecolor": "white",
            "ticks": ""
           },
           "bgcolor": "#E5ECF6",
           "caxis": {
            "gridcolor": "white",
            "linecolor": "white",
            "ticks": ""
           }
          },
          "title": {
           "x": 0.05
          },
          "xaxis": {
           "automargin": true,
           "gridcolor": "white",
           "linecolor": "white",
           "ticks": "",
           "title": {
            "standoff": 15
           },
           "zerolinecolor": "white",
           "zerolinewidth": 2
          },
          "yaxis": {
           "automargin": true,
           "gridcolor": "white",
           "linecolor": "white",
           "ticks": "",
           "title": {
            "standoff": 15
           },
           "zerolinecolor": "white",
           "zerolinewidth": 2
          }
         }
        },
        "title": {
         "font": {
          "size": 18
         },
         "text": "Distribution of Parking Violations"
        }
       }
      }
     },
     "metadata": {},
     "output_type": "display_data"
    }
   ],
   "source": [
    "import plotly.graph_objects as go\n",
    "\n",
    "# Define colors: sky blue for most, green for the highest, and red for the lowest\n",
    "colors = ['skyblue'] * len(top_violations)  # Default all to sky blue\n",
    "colors[0] = 'green'  # Assign green to the highest value\n",
    "colors[-1] = 'red'   # Assign red to the lowest value\n",
    "\n",
    "# Create a pie chart with custom colors\n",
    "fig = go.Figure(\n",
    "    data=[go.Pie(\n",
    "        labels=top_violations.index,\n",
    "        values=top_violations.values,\n",
    "        hoverinfo='label+percent',\n",
    "        textinfo='value',\n",
    "        marker=dict(colors=colors)  # Apply custom colors\n",
    "    )]\n",
    ")\n",
    "\n",
    "# Customize layout\n",
    "fig.update_layout(\n",
    "    title='Distribution of Parking Violations',\n",
    "    title_font_size=18\n",
    ")\n",
    "\n",
    "fig.show()\n",
    "\n"
   ]
  },
  {
   "cell_type": "code",
   "execution_count": null,
   "metadata": {},
   "outputs": [],
   "source": []
  }
 ],
 "metadata": {
  "kernelspec": {
   "display_name": "Python 3 (ipykernel)",
   "language": "python",
   "name": "python3"
  },
  "language_info": {
   "codemirror_mode": {
    "name": "ipython",
    "version": 3
   },
   "file_extension": ".py",
   "mimetype": "text/x-python",
   "name": "python",
   "nbconvert_exporter": "python",
   "pygments_lexer": "ipython3",
   "version": "3.12.4"
  }
 },
 "nbformat": 4,
 "nbformat_minor": 4
}
